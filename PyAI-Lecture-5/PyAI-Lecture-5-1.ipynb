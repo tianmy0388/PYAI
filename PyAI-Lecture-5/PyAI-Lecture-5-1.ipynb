{
 "cells": [
  {
   "cell_type": "markdown",
   "metadata": {},
   "source": [
    "# 数据获取"
   ]
  },
  {
   "cell_type": "markdown",
   "metadata": {},
   "source": [
    "## 字符串操作"
   ]
  },
  {
   "cell_type": "markdown",
   "metadata": {},
   "source": [
    "### 格式化字符串\n",
    "字符串的组成"
   ]
  },
  {
   "cell_type": "markdown",
   "metadata": {},
   "source": [
    "#### `%`操作符"
   ]
  },
  {
   "cell_type": "code",
   "execution_count": 1,
   "metadata": {},
   "outputs": [
    {
     "name": "stdout",
     "output_type": "stream",
     "text": [
      "Hi Quan, val=10\n",
      "Hi Quan, val=10\n"
     ]
    },
    {
     "name": "stderr",
     "output_type": "stream",
     "text": [
      "Hi Quan, val=10\n"
     ]
    }
   ],
   "source": [
    "import sys\n",
    "\n",
    "\n",
    "name = \"Quan\"\n",
    "val = 10\n",
    "\n",
    "print(\"Hi %s, val=%d\" % (name, val))\n",
    "\n",
    "print(\"Hi %s, val=%d\" % (name, val), file=sys.stderr)\n",
    "\n",
    "s = \"Hi %s, val=%d\" % (name, val)\n",
    "\n",
    "print(s)"
   ]
  },
  {
   "cell_type": "markdown",
   "metadata": {},
   "source": [
    "#### `format`方法"
   ]
  },
  {
   "cell_type": "code",
   "execution_count": 3,
   "metadata": {},
   "outputs": [
    {
     "name": "stdout",
     "output_type": "stream",
     "text": [
      "Hi Quan, val=10\n",
      "Hi Quan, val=10\n"
     ]
    }
   ],
   "source": [
    "print(\"Hi {0}, val={1}\".format(name, val))\n",
    "\n",
    "print(\"Hi {n}, val={v}\".format(n=name, v=val))"
   ]
  },
  {
   "cell_type": "code",
   "execution_count": 5,
   "metadata": {},
   "outputs": [
    {
     "name": "stdout",
     "output_type": "stream",
     "text": [
      "Hi Quan, val=10\n",
      "Hi QuanQuan, val=      10.0\n"
     ]
    }
   ],
   "source": [
    "print(f\"Hi {name}, val={val}\")\n",
    "\n",
    "print(f\"Hi {name * 2}, val={float(val):10.4}\")"
   ]
  },
  {
   "cell_type": "code",
   "execution_count": 7,
   "metadata": {},
   "outputs": [
    {
     "data": {
      "text/plain": [
       "'     3.142'"
      ]
     },
     "execution_count": 7,
     "metadata": {},
     "output_type": "execute_result"
    }
   ],
   "source": [
    "f\"{name!r}\"  # repr() -> \"'Quan'\"\n",
    "f\"{val:#0x}\"  # hex() -> \"0xa\"\n",
    "f\"{name =}\"  # \"name ='Quan'\"\n",
    "\n",
    "from math import pi\n",
    "width, precision = 10, 4\n",
    "f\"{pi:{width}.{precision}}\"  # '     3.142'"
   ]
  },
  {
   "cell_type": "markdown",
   "metadata": {},
   "source": [
    "### 格式化提取"
   ]
  },
  {
   "cell_type": "markdown",
   "metadata": {},
   "source": [
    "正则表达式\n",
    "\n",
    "- 匹配字符串中的特定模式\n",
    "- 正则表达式参考资料：https://deerchao.cn/tutorials/regex/regex.htm\n",
    "- 标准库：re\n",
    "- 第三方库：regex （与标准库接口兼容）"
   ]
  },
  {
   "cell_type": "code",
   "execution_count": null,
   "metadata": {},
   "outputs": [],
   "source": [
    "import re\n",
    "\n",
    "a_tag = re.compile(\"\\<a[^\\>]*\\>(.*)\\<\\/a\\>\")  # <a ...>...</a>\n",
    "\n",
    "a_tag.findall(\"Link to <a href=\\\"https://docs.python.org/\\\">Python Docs</a>.\")"
   ]
  },
  {
   "cell_type": "code",
   "execution_count": null,
   "metadata": {},
   "outputs": [],
   "source": [
    "a_tag.match(...)  # 判断是否匹配\n",
    "a_tag.search(...)  # 第一个匹配并定位\n",
    "a_tag.finditer(...)  # 匹配并定位所有结果，findall的迭代器版本\n",
    "a_tag.sub(...)  # 替换\n",
    "a_tag.split(...)  # 分割\n",
    "a_tag.groups(...)  # 分组"
   ]
  },
  {
   "cell_type": "markdown",
   "metadata": {},
   "source": [
    "## 文件数据输入"
   ]
  },
  {
   "cell_type": "markdown",
   "metadata": {},
   "source": [
    "### 标注输入输出"
   ]
  },
  {
   "cell_type": "code",
   "execution_count": null,
   "metadata": {},
   "outputs": [],
   "source": [
    "print(\"Hello\")\n",
    "input(\"What is your name? \")"
   ]
  },
  {
   "cell_type": "markdown",
   "metadata": {},
   "source": [
    "### 文件输入输出"
   ]
  },
  {
   "cell_type": "code",
   "execution_count": null,
   "metadata": {},
   "outputs": [],
   "source": [
    "fout = open(\"sample.txt\", \"w\")\n",
    "fout.write(\"Hello\\n\")\n",
    "fout.close()\n",
    "\n",
    "fin = open(\"sample.txt\", \"r\")\n",
    "text = fin.read()\n",
    "fin.close()\n",
    "print(text)"
   ]
  },
  {
   "cell_type": "markdown",
   "metadata": {},
   "source": [
    "上下文管理器"
   ]
  },
  {
   "cell_type": "code",
   "execution_count": null,
   "metadata": {},
   "outputs": [],
   "source": [
    "with open(\"sample.txt\", \"w\") as fout:\n",
    "    fout.write(\"Hello\\n\")\n",
    "\n",
    "with open(\"sample.txt\", \"r\") as fin:\n",
    "    print(fin.read())"
   ]
  },
  {
   "cell_type": "markdown",
   "metadata": {},
   "source": [
    "文件系统中查找文件"
   ]
  },
  {
   "cell_type": "code",
   "execution_count": null,
   "metadata": {},
   "outputs": [],
   "source": [
    "from glob import glob\n",
    "\n",
    "for fname in glob(\"*.cpp\"):\n",
    "    print(f\"\\n{fname}\")\n",
    "    with open(fname, \"r\") as fin:\n",
    "        print(fin.read())"
   ]
  },
  {
   "cell_type": "markdown",
   "metadata": {},
   "source": [
    "文件格式化存储"
   ]
  },
  {
   "cell_type": "code",
   "execution_count": 2,
   "metadata": {},
   "outputs": [],
   "source": [
    "def fib(n):\n",
    "    a, b = 0, 1\n",
    "    for _ in range(n):\n",
    "        yield a\n",
    "        a, b = b, a + b"
   ]
  },
  {
   "cell_type": "code",
   "execution_count": null,
   "metadata": {},
   "outputs": [],
   "source": [
    "fibs = list(fib(1000))\n",
    "\n",
    "# save\n",
    "with open(\"fibs.txt\", \"wb\") as fout:\n",
    "    for i in fibs:\n",
    "        fout.write(f\"{i}\\n\".encode())\n",
    "\n",
    "# load\n",
    "fibs = []\n",
    "with open(\"fibs.txt\", \"rb\") as fin:\n",
    "    while True:\n",
    "        line = fin.readline()\n",
    "        if not line:\n",
    "            break\n",
    "        fibs.append(int(line.decode()))"
   ]
  },
  {
   "cell_type": "code",
   "execution_count": 4,
   "metadata": {},
   "outputs": [],
   "source": [
    "fibs = list(fib(1000))\n",
    "\n",
    "# save\n",
    "with open(\"fibs.txt\", \"wb\") as fout:\n",
    "    fout.writelines(f\"{i}\\n\".encode() for i in fibs)\n",
    "\n",
    "# load\n",
    "with open(\"fibs.txt\", \"rb\") as fin:\n",
    "    fibs = [int(line.decode()) for line in fin]"
   ]
  },
  {
   "cell_type": "code",
   "execution_count": 3,
   "metadata": {},
   "outputs": [],
   "source": [
    "import pickle\n",
    "\n",
    "fibs = list(fib(1000))\n",
    "\n",
    "# save\n",
    "with open(\"fibs.txt\", \"wb\") as fout:\n",
    "    pickle.dump(fibs, fout)\n",
    "\n",
    "# load\n",
    "with open(\"fibs.txt\", \"rb\") as fin:\n",
    "    fibs = pickle.load(fin)"
   ]
  },
  {
   "cell_type": "code",
   "execution_count": null,
   "metadata": {},
   "outputs": [],
   "source": [
    "import json\n",
    "\n",
    "fibs = list(fib(1000))\n",
    "\n",
    "# save\n",
    "with open(\"fibs.txt\", \"w\") as fout:\n",
    "    json.dump(fibs, fout)\n",
    "\n",
    "# load\n",
    "with open(\"fibs.txt\", \"r\") as fin:\n",
    "    fibs = json.load(fin)"
   ]
  },
  {
   "cell_type": "markdown",
   "metadata": {},
   "source": [
    "字符串存储和字符（二进制）存储的区别"
   ]
  },
  {
   "cell_type": "code",
   "execution_count": null,
   "metadata": {},
   "outputs": [],
   "source": [
    "pickle.dumps(10086)"
   ]
  },
  {
   "cell_type": "code",
   "execution_count": null,
   "metadata": {},
   "outputs": [],
   "source": [
    "f\"{903147453:#0x}\"  # '0x35d4efbd'"
   ]
  },
  {
   "cell_type": "code",
   "execution_count": null,
   "metadata": {},
   "outputs": [],
   "source": [
    "# 39 30 33 31 34 37 34 35 33\n",
    "\" \".join(map(lambda h: h[2:], map(hex, map(ord, \"903147453\"))))"
   ]
  },
  {
   "cell_type": "markdown",
   "metadata": {},
   "source": [
    "## 网络数据输入"
   ]
  },
  {
   "cell_type": "markdown",
   "metadata": {},
   "source": [
    "标准库：urllib"
   ]
  },
  {
   "cell_type": "code",
   "execution_count": null,
   "metadata": {},
   "outputs": [],
   "source": [
    "from urllib import request\n",
    "\n",
    "with request.urlopen(\"http://github.com\") as response:\n",
    "    page = response.read().decode(\"utf-8\")\n",
    "\n",
    "for link in a_tag.finditer(page):\n",
    "    print(link.group(1))"
   ]
  },
  {
   "cell_type": "code",
   "execution_count": null,
   "metadata": {},
   "outputs": [],
   "source": [
    "from urllib import request, parse\n",
    "import re\n",
    "\n",
    "headers = {\"User-Agent\": \"Mozilla/5.0 (Windows NT 6.1; Win64; x64)\"}\n",
    "data = {\"l\": \"jupyter+notebook\"}\n",
    "\n",
    "req = request.Request(\n",
    "    \"https://github.com/topics/python\",\n",
    "    method=\"GET\",\n",
    "    headers=headers,\n",
    "    data=parse.urlencode(data).encode(\"utf-8\"),\n",
    ")\n",
    "\n",
    "with request.urlopen(req) as res:\n",
    "    page = res.read().decode(\"utf-8\")\n",
    "\n",
    "h3a = re.compile(\"\"\"\\<a[^\\>]* href\\=\\\"(\\/[^\\\"]*)\\\" [^\\>]*\\>([^\\<]*)\\<\\/a\\>\"\"\", flags=re.M | re.S)\n",
    "skiplist = [\"/team\", \"/enterprise\", \"/marketplace\", \"/explore\", \"/issues\", \"/topics\"]\n",
    "for link in h3a.finditer(page):\n",
    "    if any(map(link.group(1).startswith, skiplist)):\n",
    "        continue\n",
    "    print(link.group(1), link.group(2).strip())\n"
   ]
  },
  {
   "cell_type": "markdown",
   "metadata": {},
   "source": [
    "第三方库：requests selenium scrapy"
   ]
  },
  {
   "cell_type": "markdown",
   "metadata": {},
   "source": [
    "Let's move to [PyAI-Lecture-5-2.ipynb](PyAI-Lecture-5-2.ipynb)"
   ]
  }
 ],
 "metadata": {
  "interpreter": {
   "hash": "36959c95b5f5992904df98027e7a483e53020c3f856781a1641cc75f4aad00ab"
  },
  "kernelspec": {
   "display_name": "Python 3 (ipykernel)",
   "language": "python",
   "name": "python3"
  },
  "language_info": {
   "codemirror_mode": {
    "name": "ipython",
    "version": 3
   },
   "file_extension": ".py",
   "mimetype": "text/x-python",
   "name": "python",
   "nbconvert_exporter": "python",
   "pygments_lexer": "ipython3",
   "version": "3.11.5"
  }
 },
 "nbformat": 4,
 "nbformat_minor": 4
}
