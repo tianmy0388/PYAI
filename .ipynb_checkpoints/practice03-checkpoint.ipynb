{
 "cells": [
  {
   "cell_type": "markdown",
   "metadata": {},
   "source": [
    "# 凯撒与哑谜（前传）\n",
    "\n",
    "凯撒密码和哑谜都是文本加密的方法。这类方法还有很多。\n",
    "为了更好的操作他们（以及破解），我们需要一套统一的接口：加密器类！"
   ]
  },
  {
   "cell_type": "markdown",
   "metadata": {},
   "source": [
    "## 加密器类 `Cipher`（父类）\n"
   ]
  },
  {
   "cell_type": "code",
   "execution_count": 1,
   "metadata": {},
   "outputs": [],
   "source": [
    "class Cipher:\n",
    "    def reset(self):\n",
    "        pass  # default no-op\n",
    "\n",
    "    def encrypt(self, text):\n",
    "        raise NotImplementedError\n",
    "\n",
    "    def decrypt(self, text):\n",
    "        raise NotImplementedError"
   ]
  },
  {
   "cell_type": "markdown",
   "metadata": {},
   "source": [
    "## 凯撒加密器"
   ]
  },
  {
   "cell_type": "code",
   "execution_count": 3,
   "metadata": {},
   "outputs": [],
   "source": [
    "class CaesarCipher(Cipher):\n",
    "    # your code here\n",
    "    def __init__(self, offset):\n",
    "        self.offset = offset\n",
    "    \n",
    "    def reset(self):\n",
    "        self.offset = 0\n",
    "    \n",
    "    def encrypt(self, text):\n",
    "        new_text = ''\n",
    "        for c in text:\n",
    "            if c.isalpha():\n",
    "                if c.isupper():\n",
    "                    new_text += chr((ord(c) - 65 + self.offset) % 26 + 65)\n",
    "                else:\n",
    "                    new_text += chr((ord(c) - 97 + self.offset) % 26 + 97)\n",
    "            else:\n",
    "                new_text += c\n",
    "\n",
    "        return new_text\n",
    "        \n",
    "    \n",
    "    def decrypt(self, text):\n",
    "        new_text = ''\n",
    "        for c in text:\n",
    "            if c.isalpha():\n",
    "                if c.isupper():\n",
    "                    new_text += chr((ord(c) - 65 - self.offset) % 26 + 65)\n",
    "                else:\n",
    "                    new_text += chr((ord(c) - 97 - self.offset) % 26 + 97)\n",
    "            else:\n",
    "                new_text += c\n",
    "                \n",
    "        return new_text\n",
    "    \n",
    "    pass"
   ]
  },
  {
   "cell_type": "code",
   "execution_count": 5,
   "metadata": {},
   "outputs": [
    {
     "name": "stdout",
     "output_type": "stream",
     "text": [
      "Sbwkrq\n",
      "Python\n"
     ]
    }
   ],
   "source": [
    "caesar_cipher = CaesarCipher(offset=3)\n",
    "print(caesar_cipher.encrypt(\"Python\"))\n",
    "print(caesar_cipher.decrypt(\"Sbwkrq\"))\n",
    "\n",
    "# 预期结果：\n",
    "# Sbwkrq\n",
    "# Python"
   ]
  },
  {
   "cell_type": "markdown",
   "metadata": {},
   "source": [
    "## 哑谜加密器"
   ]
  },
  {
   "cell_type": "markdown",
   "metadata": {},
   "source": [
    "### EnigmaMachine的使用\n"
   ]
  },
  {
   "cell_type": "markdown",
   "metadata": {},
   "source": [
    "在Python中，有一些第三方库可以帮助你更容易地模拟恩尼格玛机的行为，而无需从头开始实现所有的逻辑。一个这样的库叫做 `enigma`，它提供了一个更为完整的恩尼格玛机模拟。\n",
    "\n",
    "要使用 `enigma` 库中的 `EnigmaMachine` 类，你需要先安装该库。你可以通过pip来安装：\n"
   ]
  },
  {
   "cell_type": "code",
   "execution_count": 7,
   "metadata": {},
   "outputs": [
    {
     "name": "stdout",
     "output_type": "stream",
     "text": [
      "Requirement already satisfied: py-enigma in e:\\anaconda3\\anaconda\\lib\\site-packages (0.1)\n"
     ]
    }
   ],
   "source": [
    "!pip install py-enigma"
   ]
  },
  {
   "cell_type": "markdown",
   "metadata": {},
   "source": [
    "接下来，你可以按照以下步骤来使用 `EnigmaMachine`：\n",
    "\n",
    "1. **导入所需的模块**：从 `enigma` 库中导入 `EnigmaMachine`\n",
    "2. **创建机器实例**：根据需要的配置创建一个 `EnigmaMachine` 的实例。\n",
    "3. **设置参数**：添加转子和反射器和插线板到机器实例。\n",
    "4. **加密或解密消息**：使用 `process_text` 方法来加密或解密文本。\n",
    "\n",
    "下面是一个具体的使用示例："
   ]
  },
  {
   "cell_type": "code",
   "execution_count": 9,
   "metadata": {},
   "outputs": [
    {
     "name": "stdout",
     "output_type": "stream",
     "text": [
      "GVMKNP\n",
      "NHKXHE\n"
     ]
    }
   ],
   "source": [
    "from enigma.machine import EnigmaMachine\n",
    "\n",
    "machine = EnigmaMachine.from_key_sheet(\n",
    "            rotors=[\"I\",\"IV\",\"II\"],\n",
    "            reflector=\"B\",\n",
    "            plugboard_settings=\"AB EZ CX DP KN TY\",\n",
    "        )\n",
    "machine.set_display(\"aAc\")\n",
    "print(machine.process_text('Python'))\n",
    "machine.set_display(\"aAc\")\n",
    "print(machine.process_text('VIXQTI'))"
   ]
  },
  {
   "cell_type": "markdown",
   "metadata": {},
   "source": [
    "### 实现哑谜加密器"
   ]
  },
  {
   "cell_type": "code",
   "execution_count": 11,
   "metadata": {},
   "outputs": [],
   "source": [
    "from enigma.machine import EnigmaMachine\n",
    "\n",
    "\n",
    "class EnigmaCipher(Cipher):\n",
    "    # your code here\n",
    "    def __init__(self, rotors, reflector, plugboard, display):\n",
    "        self.machine = EnigmaMachine.from_key_sheet(\n",
    "            rotors=rotors,\n",
    "            reflector=reflector,\n",
    "            plugboard_settings=plugboard,\n",
    "        )\n",
    "        self.initial_display = display\n",
    "        self.machine.set_display(display)\n",
    "\n",
    "    \n",
    "    def reset(self):\n",
    "        self.machine.set_display(self.initial_display)\n",
    "    \n",
    "    def encrypt(self, text):\n",
    "        return self.machine.process_text(text)\n",
    "    \n",
    "    def decrypt(self, text):\n",
    "        return self.machine.process_text(text)\n",
    "    pass"
   ]
  },
  {
   "cell_type": "code",
   "execution_count": 13,
   "metadata": {},
   "outputs": [
    {
     "name": "stdout",
     "output_type": "stream",
     "text": [
      "VIXQTI\n",
      "GUFUVB\n",
      "PYTHON\n"
     ]
    }
   ],
   "source": [
    "enigma_cipher = EnigmaCipher(\n",
    "    rotors=[\"I\",\"IV\",\"II\"],\n",
    "    reflector=\"B\",\n",
    "    plugboard=\"AB EZ CX DP KN TY\",\n",
    "    display=\"ZEN\")\n",
    "print(enigma_cipher.encrypt(\"Python\"))\n",
    "print(enigma_cipher.decrypt(\"VIXQTI\"))\n",
    "enigma_cipher.reset()\n",
    "print(enigma_cipher.decrypt(\"VIXQTI\"))\n",
    "\n",
    "# 预期结果：\n",
    "# VIXQTI\n",
    "# GUFUVB\n",
    "# PYTHON"
   ]
  },
  {
   "cell_type": "code",
   "execution_count": null,
   "metadata": {},
   "outputs": [],
   "source": []
  }
 ],
 "metadata": {
  "kernelspec": {
   "display_name": "Python 3 (ipykernel)",
   "language": "python",
   "name": "python3"
  },
  "language_info": {
   "codemirror_mode": {
    "name": "ipython",
    "version": 3
   },
   "file_extension": ".py",
   "mimetype": "text/x-python",
   "name": "python",
   "nbconvert_exporter": "python",
   "pygments_lexer": "ipython3",
   "version": "3.11.5"
  },
  "vscode": {
   "interpreter": {
    "hash": "b0fa6594d8f4cbf19f97940f81e996739fb7646882a419484c72d19e05852a7e"
   }
  }
 },
 "nbformat": 4,
 "nbformat_minor": 4
}
