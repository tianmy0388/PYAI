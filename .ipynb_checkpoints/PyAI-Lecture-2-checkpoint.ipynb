{
 "cells": [
  {
   "cell_type": "markdown",
   "metadata": {},
   "source": [
    "# Python基础"
   ]
  },
  {
   "cell_type": "markdown",
   "metadata": {},
   "source": [
    "## 简单的Python程序"
   ]
  },
  {
   "cell_type": "markdown",
   "metadata": {},
   "source": [
    "Python\n",
    "- `.py`文件\n",
    "- 语句以行为单位\n",
    "- 代码块由严格的缩进控制\n",
    "- 内置函数/对象直接调用"
   ]
  },
  {
   "cell_type": "code",
   "execution_count": 2,
   "metadata": {},
   "outputs": [
    {
     "name": "stdout",
     "output_type": "stream",
     "text": [
      "5050\n"
     ]
    }
   ],
   "source": [
    "total = 0\n",
    "for i in range(1, 101):\n",
    "    total += i\n",
    "print(total)"
   ]
  },
  {
   "cell_type": "markdown",
   "metadata": {},
   "source": [
    "C++\n",
    "- `.cpp`文件\n",
    "- 语句以分号结尾\n",
    "- 代码块以{}包裹\n",
    "- 标准函数/对象需要引入"
   ]
  },
  {
   "cell_type": "markdown",
   "metadata": {},
   "source": [
    "```C++\n",
    "#include <iostream>\n",
    "\n",
    "int main()\n",
    "{\n",
    "    int total = 0;\n",
    "    for (int i = 1; i < 101; i++)\n",
    "    {\n",
    "        total += i;\n",
    "    }\n",
    "    std::cout << total << std::endl;\n",
    "}\n",
    "```"
   ]
  },
  {
   "cell_type": "markdown",
   "metadata": {},
   "source": [
    "## 基本数据类型 – 基本元素"
   ]
  },
  {
   "cell_type": "markdown",
   "metadata": {},
   "source": [
    "### 变量与常量"
   ]
  },
  {
   "cell_type": "markdown",
   "metadata": {},
   "source": [
    "Python\n",
    "- 变量：\n",
    "  - 直接使用\n",
    "  - 动态类型\n",
    "- \"没有\"常量\n",
    "  - 全都是变量（除极少数内置常量）\n",
    "  - 用特殊方式约束“常量”赋值"
   ]
  },
  {
   "cell_type": "code",
   "execution_count": 5,
   "metadata": {},
   "outputs": [],
   "source": [
    "a = 1\n",
    "a = 1.0"
   ]
  },
  {
   "cell_type": "markdown",
   "metadata": {},
   "source": [
    "常量只是特殊的命名和使用规范"
   ]
  },
  {
   "cell_type": "code",
   "execution_count": 7,
   "metadata": {},
   "outputs": [
    {
     "data": {
      "text/plain": [
       "[1, 1, 2, 3, 5]"
      ]
     },
     "execution_count": 7,
     "metadata": {},
     "output_type": "execute_result"
    }
   ],
   "source": [
    "SERIES = [1, 1, 2, 3, 5]\n",
    "series = SERIES\n",
    "\n",
    "series"
   ]
  },
  {
   "cell_type": "code",
   "execution_count": 5,
   "metadata": {},
   "outputs": [
    {
     "data": {
      "text/plain": [
       "[1, 20, 2, 3, 5]"
      ]
     },
     "execution_count": 5,
     "metadata": {},
     "output_type": "execute_result"
    }
   ],
   "source": [
    "SERIES[1] = 20\n",
    "SERIES"
   ]
  },
  {
   "cell_type": "markdown",
   "metadata": {},
   "source": [
    "C++\n",
    "\n",
    "- 变量：\n",
    "  - 先声明，后使用\n",
    "  - 严格的类型系统\n",
    "- 常量：\n",
    "  - 严格的常量修饰符"
   ]
  },
  {
   "cell_type": "markdown",
   "metadata": {},
   "source": [
    "```C++\n",
    "int series[] = {1, 1, 2, 3, 5};\n",
    "const int * const series_ptr = series;\n",
    "```"
   ]
  },
  {
   "cell_type": "markdown",
   "metadata": {},
   "source": [
    "### 数值类型"
   ]
  },
  {
   "cell_type": "markdown",
   "metadata": {},
   "source": [
    "Python\n",
    "\n",
    "- 整数：\n",
    "`int`, `hex`, `oct`, `bin`\n",
    "\n",
    "- 浮点数：\n",
    "`float`, `complex`"
   ]
  },
  {
   "cell_type": "code",
   "execution_count": 6,
   "metadata": {},
   "outputs": [
    {
     "data": {
      "text/plain": [
       "(1, 1.2, '0xff')"
      ]
     },
     "execution_count": 6,
     "metadata": {},
     "output_type": "execute_result"
    }
   ],
   "source": [
    "int_val = 1\n",
    "float_val = 1.2\n",
    "hex_val = hex(255)\n",
    "\n",
    "int_val, float_val, hex_val"
   ]
  },
  {
   "cell_type": "markdown",
   "metadata": {},
   "source": [
    "C++\n",
    "\n",
    "- 整数：\n",
    "`int`, `long`, `short`, `unsigned`, ...\n",
    "- 浮点数：\n",
    "`float`, `double`, `long double`"
   ]
  },
  {
   "cell_type": "markdown",
   "metadata": {},
   "source": [
    "Python数值操作方便\n",
    "\n",
    "- 操作数中包含浮点数的，结果均为浮点数\n",
    "- 整数除法：**`3.x`与`2.x`的重要差别之一！**\n",
    "  - 单斜线`/`：结果为浮点数\n",
    "  - 双斜线`//`：结果为整数"
   ]
  },
  {
   "cell_type": "code",
   "execution_count": 8,
   "metadata": {},
   "outputs": [
    {
     "name": "stdout",
     "output_type": "stream",
     "text": [
      "3\n",
      "-2.0\n",
      "3.0\n",
      "0.5\n",
      "0\n",
      "1\n",
      "1\n"
     ]
    }
   ],
   "source": [
    "a = 1\n",
    "b = 2\n",
    "c = 3.0\n",
    "print(a + b)\n",
    "print(a - c)\n",
    "print(a * c)\n",
    "print(a / b)\n",
    "print(a // b)\n",
    "print(a % b)\n",
    "print(a ** b)"
   ]
  },
  {
   "cell_type": "markdown",
   "metadata": {},
   "source": [
    "Python支持“大数”加法"
   ]
  },
  {
   "cell_type": "code",
   "execution_count": 9,
   "metadata": {},
   "outputs": [
    {
     "data": {
      "text/plain": [
       "100000004294967295"
      ]
     },
     "execution_count": 9,
     "metadata": {},
     "output_type": "execute_result"
    }
   ],
   "source": [
    "# 2^32 = 4294967296\n",
    "4294967296 + 99999999999999999"
   ]
  },
  {
   "cell_type": "markdown",
   "metadata": {},
   "source": [
    "C++需要单独实现\n",
    "\n",
    "```C++\n",
    "// big number addition\n",
    "int * add(int a[], int b[], int c[], int n) {\n",
    "    int carry = 0;\n",
    "    for (int i = 0; i < n; i++) {\n",
    "        c[i] = a[i] + b[i] + carry;\n",
    "        carry = c[i] / 10;\n",
    "        c[i] %= 10;\n",
    "    }\n",
    "    return c;\n",
    "}\n",
    "```"
   ]
  },
  {
   "cell_type": "markdown",
   "metadata": {},
   "source": [
    "### 字符串操作"
   ]
  },
  {
   "cell_type": "markdown",
   "metadata": {},
   "source": [
    "Python\n",
    "- 字符类型：无\n",
    "- 字符串类型：`str`\n",
    "  - 内部为Unicode编码（**`3.x`与`2.x`的重要差别之一！**）\n",
    "- 丰富的原生操作符"
   ]
  },
  {
   "cell_type": "code",
   "execution_count": 11,
   "metadata": {},
   "outputs": [
    {
     "name": "stdout",
     "output_type": "stream",
     "text": [
      "helloworld\n",
      "hellohello\n",
      "这是一个很长的中文字符串\n",
      "或者是一个\n",
      "多行字符串\n",
      "    可以有很多行\n",
      "很多行\n",
      "多行\n",
      "行\n",
      "\n",
      "a * 5 = hellohellohellohellohello\n"
     ]
    }
   ],
   "source": [
    "a = \"hello\"\n",
    "b = \"world\"\n",
    "print(a + b)  # helloworld\n",
    "print(a * 2)  # hellohello\n",
    "print(\"这是一个很长\"\n",
    "      '的中文字符串')  # 这是一个很长的中文字符串\n",
    "print('''或者是一个\n",
    "多行字符串\n",
    "    可以有很多行\n",
    "很多行\n",
    "多行\n",
    "行\n",
    "''')  # 或者是一个\n",
    "print(f\"a * 5 = {a * 5}\")  # a * 5 = hellohellohellohellohello"
   ]
  },
  {
   "cell_type": "markdown",
   "metadata": {},
   "source": [
    "C++\n",
    "- 字符类型：`char`\n",
    "- 字符串类型：\n",
    "  - 字符数组：`char[]`，`wchar_t[]`\n",
    "  - ANCI字符串：`string`\n",
    "  - 宽字节字符串：`wstring`\n",
    "- `string`类操作符\n",
    "- `str`系列函数"
   ]
  },
  {
   "cell_type": "markdown",
   "metadata": {},
   "source": [
    "Python字符串匹配"
   ]
  },
  {
   "cell_type": "code",
   "execution_count": 1,
   "metadata": {},
   "outputs": [
    {
     "name": "stdout",
     "output_type": "stream",
     "text": [
      "True\n"
     ]
    }
   ],
   "source": [
    "print(\"ell\" in \"hello\")  # True"
   ]
  },
  {
   "cell_type": "markdown",
   "metadata": {},
   "source": [
    "C++需要单独实现（如KMP算法：一种动态规划方法，分析子串特点，控制匹配失败时跳过步数，以减少比较）\n",
    "\n",
    "```C++\n",
    "int kmp(const char * text, const char * pattern) {\n",
    "    int n = strlen(text);\n",
    "    int m = strlen(pattern);\n",
    "    int * next = new int[m];\n",
    "    next[0] = -1;\n",
    "    int j = -1;\n",
    "    for (int i = 1; i < m; i++) {\n",
    "        while (j >= 0 && pattern[j + 1] != pattern[i]) {\n",
    "            j = next[j];\n",
    "        }\n",
    "        if (pattern[j + 1] == pattern[i]) {\n",
    "            j++;\n",
    "        }\n",
    "        next[i] = j;\n",
    "    }\n",
    "    j = -1;\n",
    "    for (int i = 0; i < n; i++) {\n",
    "        while (j >= 0 && pattern[j + 1] != text[i]) {\n",
    "            j = next[j];\n",
    "        }\n",
    "        if (pattern[j + 1] == text[i]) {\n",
    "            j++;\n",
    "        }\n",
    "        if (j == m - 1) {\n",
    "            return i - m + 1;\n",
    "        }\n",
    "    }\n",
    "    return -1;\n",
    "}\n",
    "```"
   ]
  },
  {
   "cell_type": "markdown",
   "metadata": {},
   "source": [
    "## 基本数据类型 – 基本容器"
   ]
  },
  {
   "cell_type": "markdown",
   "metadata": {},
   "source": [
    "### Python元组：`tuple`"
   ]
  },
  {
   "cell_type": "code",
   "execution_count": 13,
   "metadata": {},
   "outputs": [
    {
     "data": {
      "text/plain": [
       "('hello',\n",
       " 'world',\n",
       " 'hello',\n",
       " 'world',\n",
       " 'hello',\n",
       " 'world',\n",
       " ('hello', 'world'),\n",
       " ('hello',))"
      ]
     },
     "execution_count": 13,
     "metadata": {},
     "output_type": "execute_result"
    }
   ],
   "source": [
    "words = (a, b)\n",
    "c, d = words\n",
    "e, f = a, b\n",
    "sole = (a,)\n",
    "\n",
    "a, b, c, d, e, f, words, sole"
   ]
  },
  {
   "cell_type": "code",
   "execution_count": 11,
   "metadata": {},
   "outputs": [
    {
     "data": {
      "text/plain": [
       "('HELLO', 'WORLD')"
      ]
     },
     "execution_count": 11,
     "metadata": {},
     "output_type": "execute_result"
    }
   ],
   "source": [
    "def f():\n",
    "    return \"HELLO\", \"WORLD\"\n",
    "\n",
    "a, b = f()\n",
    "a, b"
   ]
  },
  {
   "cell_type": "code",
   "execution_count": 15,
   "metadata": {},
   "outputs": [
    {
     "name": "stdout",
     "output_type": "stream",
     "text": [
      "hello\n"
     ]
    },
    {
     "ename": "TypeError",
     "evalue": "'tuple' object does not support item assignment",
     "output_type": "error",
     "traceback": [
      "\u001b[1;31m---------------------------------------------------------------------------\u001b[0m",
      "\u001b[1;31mTypeError\u001b[0m                                 Traceback (most recent call last)",
      "Cell \u001b[1;32mIn[15], line 2\u001b[0m\n\u001b[0;32m      1\u001b[0m \u001b[38;5;28mprint\u001b[39m(words[\u001b[38;5;241m0\u001b[39m])\n\u001b[1;32m----> 2\u001b[0m words[\u001b[38;5;241m1\u001b[39m] \u001b[38;5;241m=\u001b[39m \u001b[38;5;124m\"\u001b[39m\u001b[38;5;124manother\u001b[39m\u001b[38;5;124m\"\u001b[39m\n",
      "\u001b[1;31mTypeError\u001b[0m: 'tuple' object does not support item assignment"
     ]
    }
   ],
   "source": [
    "print(words[0])\n",
    "words[1] = \"another\"  # TypeError"
   ]
  },
  {
   "cell_type": "markdown",
   "metadata": {},
   "source": [
    "C++结构体？\n",
    "\n",
    "```C++\n",
    "struct Node {\n",
    "    int data;\n",
    "    Node * next;\n",
    "};\n",
    "```"
   ]
  },
  {
   "cell_type": "markdown",
   "metadata": {},
   "source": [
    "### Python列表：`list`"
   ]
  },
  {
   "cell_type": "markdown",
   "metadata": {},
   "source": [
    "- Cpython中由动态指针数组实现\n",
    "  - 预分配连续内存供随机访问\n",
    "  - 不够大时重新分配\n",
    "  - 插入效率低仍然存在"
   ]
  },
  {
   "cell_type": "code",
   "execution_count": 59,
   "metadata": {},
   "outputs": [
    {
     "data": {
      "text/plain": [
       "['苹果', '香蕉', '西瓜']"
      ]
     },
     "execution_count": 59,
     "metadata": {},
     "output_type": "execute_result"
    }
   ],
   "source": [
    "array = [\"苹果\", \"香蕉\", \"西瓜\"]\n",
    "array"
   ]
  },
  {
   "cell_type": "markdown",
   "metadata": {},
   "source": [
    "C++数组：`array`\n",
    "- 固定数据类型\n",
    "- 固定大小内存\n",
    "- 随机访问\n",
    "- 插入效率低\n",
    "\n",
    "C++链表：`list`\n",
    "- 动态大小\n",
    "- 顺序访问\n",
    "- 插入效率高\n",
    "\n",
    "C++向量：`vector`\n",
    "- 高级动态数组"
   ]
  },
  {
   "cell_type": "markdown",
   "metadata": {},
   "source": [
    "Python列表操作"
   ]
  },
  {
   "cell_type": "markdown",
   "metadata": {},
   "source": [
    "长度"
   ]
  },
  {
   "cell_type": "code",
   "execution_count": 61,
   "metadata": {},
   "outputs": [
    {
     "data": {
      "text/plain": [
       "3"
      ]
     },
     "execution_count": 61,
     "metadata": {},
     "output_type": "execute_result"
    }
   ],
   "source": [
    "len(array)  # 3"
   ]
  },
  {
   "cell_type": "markdown",
   "metadata": {},
   "source": [
    "下标访问"
   ]
  },
  {
   "cell_type": "code",
   "execution_count": 63,
   "metadata": {},
   "outputs": [
    {
     "name": "stdout",
     "output_type": "stream",
     "text": [
      "苹果\n",
      "香蕉\n",
      "西瓜\n",
      "西瓜\n",
      "香蕉\n",
      "苹果\n"
     ]
    }
   ],
   "source": [
    "print(array[0])  # 苹果\n",
    "print(array[1])  # 香蕉\n",
    "print(array[2])  # 西瓜\n",
    "print(array[-1])  # 西瓜\n",
    "print(array[-2])  # 香蕉\n",
    "print(array[-3])  # 苹果"
   ]
  },
  {
   "cell_type": "markdown",
   "metadata": {},
   "source": [
    "列表增加元素"
   ]
  },
  {
   "cell_type": "code",
   "execution_count": 65,
   "metadata": {},
   "outputs": [
    {
     "name": "stdout",
     "output_type": "stream",
     "text": [
      "['苹果', '香蕉', '西瓜', '草莓']\n",
      "['苹果', '香蕉', '西瓜', '草莓', '葡萄', '荔枝']\n",
      "['苹果', '柚子', '香蕉', '西瓜', '草莓', '葡萄', '荔枝']\n"
     ]
    }
   ],
   "source": [
    "array.append(\"草莓\")\n",
    "print(array)  # ['苹果', '香蕉', '西瓜', '草莓']\n",
    "array.extend([\"葡萄\", \"荔枝\"])\n",
    "print(array)  # ['苹果', '香蕉', '西瓜', '草莓', '葡萄', '荔枝']\n",
    "array.insert(1, \"柚子\")\n",
    "print(array)  # ['苹果', '柚子', '香蕉', '西瓜', '草莓', '葡萄', '荔枝']"
   ]
  },
  {
   "cell_type": "markdown",
   "metadata": {},
   "source": [
    "列表减少元素"
   ]
  },
  {
   "cell_type": "code",
   "execution_count": 67,
   "metadata": {},
   "outputs": [
    {
     "name": "stdout",
     "output_type": "stream",
     "text": [
      "['柚子', '香蕉', '西瓜', '草莓', '葡萄', '荔枝']\n",
      "['柚子', '香蕉', '西瓜', '葡萄', '荔枝']\n",
      "荔枝\n"
     ]
    }
   ],
   "source": [
    "array.remove(\"苹果\")\n",
    "print(array)  # ['柚子', '香蕉', '西瓜', '草莓', '葡萄', '荔枝']\n",
    "del array[3]\n",
    "print(array)  # ['柚子', '香蕉', '西瓜', '葡萄', '荔枝']\n",
    "print(array.pop())  # 荔枝"
   ]
  },
  {
   "cell_type": "markdown",
   "metadata": {},
   "source": [
    "包含检查"
   ]
  },
  {
   "cell_type": "code",
   "execution_count": 69,
   "metadata": {},
   "outputs": [
    {
     "name": "stdout",
     "output_type": "stream",
     "text": [
      "True\n",
      "True\n",
      "['柚子', '香蕉', '西瓜', '葡萄', '苹果']\n",
      "True\n",
      "4\n"
     ]
    }
   ],
   "source": [
    "print(\"西瓜\" in array)  # True\n",
    "print(\"苹果\" not in array)  # True\n",
    "array += [\"苹果\"]\n",
    "print(array)\n",
    "print(\"苹果\" in array)  # True\n",
    "print(array.index(\"苹果\"))  # 4"
   ]
  },
  {
   "cell_type": "code",
   "execution_count": null,
   "metadata": {},
   "outputs": [],
   "source": [
    "列表元素修改"
   ]
  },
  {
   "cell_type": "code",
   "execution_count": 71,
   "metadata": {},
   "outputs": [
    {
     "name": "stdout",
     "output_type": "stream",
     "text": [
      "['柚子', '香蕉', '西瓜', '葡萄', '苹果']\n"
     ]
    }
   ],
   "source": [
    "print(array)  # ['柚子', '香蕉', '西瓜', '葡萄', '苹果']\n",
    "array[0] = \"草莓\"\n",
    "\n",
    "for fruit in array:\n",
    "    if fruit == \"苹果\":\n",
    "        fruit = \"荔枝\"  # 无效，只是为了演示\n",
    "\n",
    "for i, fruit in enumerate(array):\n",
    "    if fruit == \"苹果\":\n",
    "        array[i] = \"荔枝\"  # 修改有效"
   ]
  },
  {
   "cell_type": "code",
   "execution_count": null,
   "metadata": {},
   "outputs": [],
   "source": [
    "切片"
   ]
  },
  {
   "cell_type": "code",
   "execution_count": 75,
   "metadata": {},
   "outputs": [
    {
     "name": "stdout",
     "output_type": "stream",
     "text": [
      "['草莓', '香蕉', '西瓜', '葡萄', '荔枝']\n",
      "['葡萄', '荔枝']\n",
      "['草莓', '香蕉', '西瓜']\n",
      "['葡萄', '荔枝']\n",
      "['草莓', '香蕉']\n",
      "['草莓', '香蕉', '西瓜', '葡萄', '荔枝']\n",
      "['草莓', '西瓜', '荔枝']\n",
      "['荔枝', '葡萄', '西瓜', '香蕉', '草莓']\n"
     ]
    }
   ],
   "source": [
    "print(array)  # ['草莓', '香蕉', '西瓜', '葡萄', '荔枝']\n",
    "print(array[3:5])  # ['葡萄', '荔枝']\n",
    "print(array[:3])  # ['草莓', '香蕉', '西瓜']\n",
    "print(array[3:])  # ['葡萄', '荔枝']\n",
    "print(array[:-3])  # ['草莓', '香蕉']\n",
    "print(array[:])  # ['草莓', '香蕉', '西瓜', '葡萄', '荔枝']\n",
    "print(array[::2])  # ['草莓', '西瓜', '荔枝']\n",
    "print(array[::-1])  # ['荔枝', '葡萄', '西瓜', '香蕉', '草莓']"
   ]
  },
  {
   "cell_type": "code",
   "execution_count": 77,
   "metadata": {},
   "outputs": [
    {
     "name": "stdout",
     "output_type": "stream",
     "text": [
      "['苹果', '柚子', '西瓜', '葡萄', '荔枝']\n",
      "['苹果', '西瓜', '葡萄', '荔枝']\n",
      "['苹果', '葡萄', '西瓜', '荔枝']\n"
     ]
    }
   ],
   "source": [
    "array[:2] = [\"苹果\", \"柚子\"]\n",
    "print(array)  # ['苹果', '柚子', '西瓜', '葡萄', '荔枝']\n",
    "array[:2] = [\"苹果\"]\n",
    "print(array)  # ['荔枝', '西瓜', '葡萄', '苹果']\n",
    "array[::-1] = [\"荔枝\", \"西瓜\", \"葡萄\", \"苹果\"]  # 注意长度不能改变\n",
    "print(array)  # ['苹果', '葡萄', '西瓜', '荔枝']"
   ]
  },
  {
   "cell_type": "code",
   "execution_count": 79,
   "metadata": {},
   "outputs": [
    {
     "name": "stdout",
     "output_type": "stream",
     "text": [
      "['苹果', '西瓜', '荔枝']\n"
     ]
    }
   ],
   "source": [
    "del array[-3:3:2]\n",
    "print(array)  # ['苹果', '西瓜', '荔枝']"
   ]
  },
  {
   "cell_type": "markdown",
   "metadata": {},
   "source": [
    "排序"
   ]
  },
  {
   "cell_type": "code",
   "execution_count": 2,
   "metadata": {},
   "outputs": [
    {
     "data": {
      "text/plain": [
       "[1, 2, 3]"
      ]
     },
     "execution_count": 2,
     "metadata": {},
     "output_type": "execute_result"
    }
   ],
   "source": [
    "sorted([3,1,2])"
   ]
  },
  {
   "cell_type": "code",
   "execution_count": 6,
   "metadata": {},
   "outputs": [
    {
     "name": "stdout",
     "output_type": "stream",
     "text": [
      "['', '123', 'ABC', 'ab', 'abc', 'def', '中文']\n",
      "['', 'ab', '中文', 'abc', 'def', 'ABC', '123']\n",
      "['abc', 'def', 'ABC', '123', 'ab', '中文', '']\n"
     ]
    }
   ],
   "source": [
    "array = [\"abc\", \"ab\", \"def\", \"ABC\", \"123\", \"中文\", \"\"]\n",
    "\n",
    "print(sorted(array))  # ['', '123', 'ABC', 'ab', 'abc', 'def', '中文']\n",
    "print(sorted(array, key=len))  # ['', 'ab', '中文', 'abc', 'def', 'ABC', '123']\n",
    "print(sorted(array, key=len, reverse=True))  # ['abc', 'def', 'ABC', '123', 'ab', '中文', '']\n"
   ]
  },
  {
   "cell_type": "code",
   "execution_count": 8,
   "metadata": {},
   "outputs": [
    {
     "name": "stdout",
     "output_type": "stream",
     "text": [
      "['abc', 'ab', 'def', 'ABC', '123', '中文', '']\n"
     ]
    }
   ],
   "source": [
    "# sorted排序不会改变原数组\n",
    "print(array)  # ['abc', 'ab', 'def', 'ABC', '123', '中文', '']"
   ]
  },
  {
   "cell_type": "code",
   "execution_count": 12,
   "metadata": {},
   "outputs": [
    {
     "name": "stdout",
     "output_type": "stream",
     "text": [
      "['', '123', 'ABC', 'ab', 'abc', 'def', '中文']\n",
      "['', '123', 'ab', 'ABC', 'abc', 'def', '中文']\n"
     ]
    }
   ],
   "source": [
    "# sort方法排序会改变原数组\n",
    "array.sort()\n",
    "print(array)  # ['', '123', 'ABC', 'ab', 'abc', 'def', '中文']\n",
    "array.sort(key=str.capitalize)\n",
    "print(array)  # ['', '123', 'ab', 'ABC', 'abc', 'def', '中文']"
   ]
  },
  {
   "cell_type": "code",
   "execution_count": 14,
   "metadata": {},
   "outputs": [
    {
     "name": "stdout",
     "output_type": "stream",
     "text": [
      "['中文', 'def', 'abc', 'ABC', 'ab', '123', '']\n",
      "['中文', 'def', 'abc', 'ABC', 'ab', '123', '']\n"
     ]
    }
   ],
   "source": [
    "print(list(reversed(array)))  # ['中文', 'def', 'abc', 'ABC', 'ab', '123', '']\n",
    "array.reverse()\n",
    "print(array)  # ['中文', 'def', 'abc', 'ABC', 'ab', '123', '']"
   ]
  },
  {
   "cell_type": "markdown",
   "metadata": {},
   "source": [
    "### Python字典：`dict`"
   ]
  },
  {
   "cell_type": "markdown",
   "metadata": {},
   "source": [
    "表示一种“键”和“值”之间的对应关系。其中“键”是唯一的，而“值”则不必。"
   ]
  },
  {
   "cell_type": "code",
   "execution_count": 16,
   "metadata": {},
   "outputs": [
    {
     "name": "stdout",
     "output_type": "stream",
     "text": [
      "苹果\n",
      "{'Mon': '苹果', 'Tue': '香蕉', 'Wed': '荔枝', 'Thu': '葡萄'}\n",
      "{'Mon': '苹果', 'Tue': '西瓜', 'Wed': '荔枝', 'Thu': '葡萄'}\n",
      "{'Mon': '苹果', 'Tue': '西瓜', 'Wed': '荔枝', 'Thu': '葡萄', 'Web': '柚子', 'Fri': '荔枝'}\n",
      "{'Mon': '苹果', 'Tue': '西瓜', 'Thu': '葡萄', 'Web': '柚子', 'Fri': '荔枝'}\n",
      "苹果\n"
     ]
    }
   ],
   "source": [
    "fruits = {\"Mon\": \"苹果\", \"Tue\": \"香蕉\", \"Wed\": \"荔枝\"}\n",
    "print(fruits[\"Mon\"])\n",
    "fruits[\"Thu\"] = \"葡萄\"\n",
    "print(fruits)  # {'Mon': '苹果', 'Tue': '香蕉', 'Wed': '荔枝', 'Thu': '葡萄'}\n",
    "fruits[\"Tue\"] = \"西瓜\"\n",
    "print(fruits)  # {'Mon': '苹果', 'Tue': '西瓜', 'Wed': '荔枝', 'Thu': '葡萄'}\n",
    "fruits.update({\"Web\": \"柚子\", \"Fri\": \"荔枝\"})\n",
    "print(fruits)  # {'Mon': '苹果', 'Tue': '西瓜', 'Wed': '荔枝', 'Thu': '葡萄', 'Web': '柚子', 'Fri': '荔枝'}\n",
    "del fruits[\"Wed\"]\n",
    "print(fruits)  # {'Mon': '苹果', 'Tue': '西瓜', 'Thu': '葡萄', 'Web': '柚子', 'Fri': '荔枝'}\n",
    "print(fruits.pop(\"Mon\"))  # 苹果"
   ]
  },
  {
   "cell_type": "markdown",
   "metadata": {},
   "source": [
    "键/值"
   ]
  },
  {
   "cell_type": "code",
   "execution_count": 18,
   "metadata": {},
   "outputs": [
    {
     "name": "stdout",
     "output_type": "stream",
     "text": [
      "['Tue', 'Thu', 'Web', 'Fri']\n",
      "['西瓜', '葡萄', '柚子', '荔枝']\n",
      "['Tue', 'Thu', 'Web', 'Fri']\n",
      "False\n",
      "[('Tue', '西瓜'), ('Thu', '葡萄'), ('Web', '柚子'), ('Fri', '荔枝')]\n"
     ]
    }
   ],
   "source": [
    "print(list(fruits.keys()))  # ['Tue', 'Thu', 'Web', 'Fri']\n",
    "print(list(fruits.values()))  # ['西瓜', '葡萄', '柚子', '荔枝']\n",
    "print(list(fruits))  # ['Tue', 'Thu', 'Web', 'Fri']\n",
    "print(\"Mon\" in fruits)  # False\n",
    "print(list(fruits.items()))  # [('Web', '柚子'), ('Fri', '荔枝'), ('Tue', '西瓜'), ('Thu', '葡萄')]"
   ]
  },
  {
   "cell_type": "markdown",
   "metadata": {},
   "source": [
    "### Python集合：`set`"
   ]
  },
  {
   "cell_type": "markdown",
   "metadata": {},
   "source": [
    "一种无序不重复元素集\n",
    "- 没有重复元素的列表\n",
    "- 只有key的字典"
   ]
  },
  {
   "cell_type": "code",
   "execution_count": 20,
   "metadata": {},
   "outputs": [
    {
     "name": "stdout",
     "output_type": "stream",
     "text": [
      "{'h', 'd', 'l', ' ', 'r', 'o', 'e', 'w'}\n"
     ]
    }
   ],
   "source": [
    "print(set('hello world'))  # {'r', 'e', ' ', 'o', 'l', 'd', 'w', 'h'}"
   ]
  },
  {
   "cell_type": "code",
   "execution_count": 21,
   "metadata": {},
   "outputs": [
    {
     "data": {
      "text/plain": [
       "({1, 2, 3, 4, 5}, {3, 4, 5, 6, 7})"
      ]
     },
     "execution_count": 21,
     "metadata": {},
     "output_type": "execute_result"
    }
   ],
   "source": [
    "a_set = {1, 2, 3, 4, 5}\n",
    "b_set = set(range(3, 8))\n",
    "\n",
    "a_set, b_set"
   ]
  },
  {
   "cell_type": "code",
   "execution_count": 24,
   "metadata": {},
   "outputs": [
    {
     "name": "stdout",
     "output_type": "stream",
     "text": [
      "{1, 2, 3, 4, 5, 6, 7}\n",
      "{3, 4, 5}\n",
      "{1, 2}\n",
      "{6, 7}\n"
     ]
    }
   ],
   "source": [
    "print(a_set.union(b_set))  # {1, 2, 3, 4, 5, 6, 7}\n",
    "print(a_set.intersection(b_set))  # {3, 4, 5}\n",
    "print(a_set.difference(b_set))  # {1, 2}\n",
    "print(b_set - a_set)  # {6, 7}"
   ]
  },
  {
   "cell_type": "markdown",
   "metadata": {},
   "source": [
    "## 流程控制语句"
   ]
  },
  {
   "cell_type": "markdown",
   "metadata": {},
   "source": [
    "### 条件控制"
   ]
  },
  {
   "cell_type": "markdown",
   "metadata": {},
   "source": [
    "```python\n",
    "if <condition>:\n",
    "    <action1>\n",
    "elif <condition2>:\n",
    "    <action2>\n",
    "else:\n",
    "    <action3>\n",
    "<action4>\n",
    "```"
   ]
  },
  {
   "cell_type": "code",
   "execution_count": 3,
   "metadata": {},
   "outputs": [
    {
     "name": "stdout",
     "output_type": "stream",
     "text": [
      "1 <= a < 2\n"
     ]
    }
   ],
   "source": [
    "a = 1\n",
    "\n",
    "if a < 1:\n",
    "    print(\"a < 1\")\n",
    "else:\n",
    "    if a < 2:\n",
    "        print(\"1 <= a < 2\")\n",
    "    else:\n",
    "        if a < 3:\n",
    "            print(\"2 <= a < 3\")  # a < 3\n",
    "        else:\n",
    "            print(\"a >= 3\")"
   ]
  },
  {
   "cell_type": "code",
   "execution_count": 4,
   "metadata": {},
   "outputs": [
    {
     "name": "stdout",
     "output_type": "stream",
     "text": [
      "1 <= a < 2\n"
     ]
    }
   ],
   "source": [
    "if a < 1:\n",
    "    print(\"a < 1\")\n",
    "elif a < 2:\n",
    "    print(\"1 <= a < 2\")\n",
    "elif a < 3:\n",
    "    print(\"2 <= a < 3\")  # a < 3\n",
    "else:\n",
    "    print(\"a >= 3\")"
   ]
  },
  {
   "cell_type": "markdown",
   "metadata": {},
   "source": [
    "行内表达式\n",
    "\n",
    "```python\n",
    "<value> if <condition> else <value2>\n",
    "```"
   ]
  },
  {
   "cell_type": "code",
   "execution_count": 11,
   "metadata": {},
   "outputs": [
    {
     "data": {
      "text/plain": [
       "'hello'"
      ]
     },
     "execution_count": 11,
     "metadata": {},
     "output_type": "execute_result"
    }
   ],
   "source": [
    "b = \"hello\"\n",
    "if a < 2:\n",
    "    b = \"hello\"\n",
    "else:\n",
    "    b = \"world\"\n",
    "b"
   ]
  },
  {
   "cell_type": "code",
   "execution_count": 10,
   "metadata": {},
   "outputs": [
    {
     "data": {
      "text/plain": [
       "1"
      ]
     },
     "execution_count": 10,
     "metadata": {},
     "output_type": "execute_result"
    }
   ],
   "source": [
    "a"
   ]
  },
  {
   "cell_type": "code",
   "execution_count": 8,
   "metadata": {},
   "outputs": [
    {
     "data": {
      "text/plain": [
       "'hello'"
      ]
     },
     "execution_count": 8,
     "metadata": {},
     "output_type": "execute_result"
    }
   ],
   "source": [
    "b = \"hello\" if a<2 else \"world\"  # 'world'\n",
    "b"
   ]
  },
  {
   "cell_type": "markdown",
   "metadata": {},
   "source": [
    "真值假值\n",
    "\n",
    "Python中的两个常量（布尔型，`bool`）：`True`和`False`"
   ]
  },
  {
   "cell_type": "code",
   "execution_count": 28,
   "metadata": {},
   "outputs": [
    {
     "data": {
      "text/plain": [
       "(True, False, False, True, bool)"
      ]
     },
     "execution_count": 28,
     "metadata": {},
     "output_type": "execute_result"
    }
   ],
   "source": [
    "True, False, True and False, True or False, type(True)"
   ]
  },
  {
   "cell_type": "markdown",
   "metadata": {},
   "source": [
    "Falsy值：`False`, `None`, `0`, `0.0`, `''`, `[]`, `{}`, `()`\n",
    "\n",
    "其余值均为真值"
   ]
  },
  {
   "cell_type": "code",
   "execution_count": null,
   "metadata": {},
   "outputs": [
    {
     "name": "stdout",
     "output_type": "stream",
     "text": [
      "False\n",
      "True\n"
     ]
    }
   ],
   "source": [
    "print(None or 0 or \"\" or [] or {} or False)  # False\n",
    "print(1 and [0,] and {None: \"\"} and True)  # True"
   ]
  },
  {
   "cell_type": "markdown",
   "metadata": {},
   "source": [
    "逻辑操作符：`and`, `or`, `not`"
   ]
  },
  {
   "cell_type": "code",
   "execution_count": 31,
   "metadata": {},
   "outputs": [
    {
     "name": "stdout",
     "output_type": "stream",
     "text": [
      "1\n",
      "0\n"
     ]
    }
   ],
   "source": [
    "# 短路求值\n",
    "print(None or 1 or False or 2)  # 1\n",
    "print(1 and 0 and True)  # 0"
   ]
  },
  {
   "cell_type": "code",
   "execution_count": 32,
   "metadata": {},
   "outputs": [
    {
     "name": "stdout",
     "output_type": "stream",
     "text": [
      "False\n"
     ]
    }
   ],
   "source": [
    "print(not True)  # False"
   ]
  },
  {
   "cell_type": "code",
   "execution_count": null,
   "metadata": {},
   "outputs": [
    {
     "name": "stdout",
     "output_type": "stream",
     "text": [
      "True\n",
      "True\n",
      "True\n",
      "False\n",
      "True\n",
      "False\n"
     ]
    }
   ],
   "source": [
    "print(1 == 1)  # True\n",
    "print(\"1\" is \"1\")  # True\n",
    "print([1] == [1])  # True\n",
    "print([1] is [1])  # False\n",
    "print({\"1\": 1} == {\"1\": 1})  # True\n",
    "print({\"1\": 1} is {\"1\": 1})  # False"
   ]
  },
  {
   "cell_type": "markdown",
   "metadata": {},
   "source": [
    "逻辑操作函数：`all`, `any`"
   ]
  },
  {
   "cell_type": "code",
   "execution_count": null,
   "metadata": {},
   "outputs": [
    {
     "name": "stdout",
     "output_type": "stream",
     "text": [
      "True\n",
      "False\n"
     ]
    }
   ],
   "source": [
    "print(any([0, True, False]))  # True\n",
    "print(all([0, True, False]))  # False"
   ]
  },
  {
   "cell_type": "markdown",
   "metadata": {},
   "source": [
    "比较操作符：`==`, `!=`, `<`, `>`, `<=`, `>=`，`is`, `is not`，`in`, `not in`"
   ]
  },
  {
   "cell_type": "code",
   "execution_count": 36,
   "metadata": {},
   "outputs": [
    {
     "name": "stdout",
     "output_type": "stream",
     "text": [
      "True\n",
      "True\n",
      "False\n",
      "True\n",
      "True\n"
     ]
    }
   ],
   "source": [
    "print(1 < 2 < 3)  # True\n",
    "print(not True is False)  # True\n",
    "print(type(1) is not int)  # False, for demo only; use isinstance instead\n",
    "print(1 in [1, 2, 3])  # True\n",
    "print('E' not in 'hello')  # True"
   ]
  },
  {
   "cell_type": "markdown",
   "metadata": {},
   "source": [
    "特殊值：`nan`"
   ]
  },
  {
   "cell_type": "code",
   "execution_count": null,
   "metadata": {},
   "outputs": [
    {
     "name": "stdout",
     "output_type": "stream",
     "text": [
      "False\n",
      "False\n",
      "False\n",
      "False\n",
      "True\n"
     ]
    }
   ],
   "source": [
    "from math import nan\n",
    "\n",
    "print(1 > nan)  # False\n",
    "print(1 == nan)  # False\n",
    "print(1 < nan)  # False\n",
    "print(nan == nan)  # False\n",
    "print(nan is nan)  # True"
   ]
  },
  {
   "cell_type": "markdown",
   "metadata": {},
   "source": [
    "### 循环语句"
   ]
  },
  {
   "cell_type": "markdown",
   "metadata": {},
   "source": [
    "`for`循环\n",
    "\n",
    "```python\n",
    "for <var> in <iterable>:\n",
    "    <action1>\n",
    "else:\n",
    "    <action2>\n",
    "```"
   ]
  },
  {
   "cell_type": "code",
   "execution_count": 12,
   "metadata": {},
   "outputs": [
    {
     "name": "stdout",
     "output_type": "stream",
     "text": [
      "0\n",
      "1\n",
      "2\n",
      "0\n",
      "1\n",
      "2\n",
      "3\n",
      "4\n",
      "5\n",
      "6\n",
      "7\n",
      "8\n",
      "9\n",
      "10\n",
      "11\n",
      "12\n",
      "13\n",
      "14\n",
      "15\n",
      "16\n",
      "17\n",
      "18\n",
      "19\n",
      "20\n",
      "21\n",
      "22\n",
      "23\n",
      "24\n",
      "25\n",
      "26\n",
      "27\n",
      "28\n",
      "29\n",
      "30\n",
      "31\n",
      "32\n",
      "33\n",
      "34\n",
      "35\n",
      "36\n",
      "37\n",
      "38\n",
      "39\n",
      "40\n",
      "41\n",
      "42\n",
      "43\n",
      "44\n",
      "45\n",
      "46\n",
      "47\n",
      "48\n",
      "49\n",
      "50\n",
      "51\n",
      "52\n",
      "53\n",
      "54\n",
      "55\n",
      "56\n",
      "57\n",
      "58\n",
      "59\n",
      "60\n",
      "61\n",
      "62\n",
      "63\n",
      "64\n",
      "65\n",
      "66\n",
      "67\n",
      "68\n",
      "69\n",
      "70\n",
      "71\n",
      "72\n",
      "73\n",
      "74\n",
      "75\n",
      "76\n",
      "77\n",
      "78\n",
      "79\n",
      "80\n",
      "81\n",
      "82\n",
      "83\n",
      "84\n",
      "85\n",
      "86\n",
      "87\n",
      "88\n",
      "89\n",
      "90\n",
      "91\n",
      "92\n",
      "93\n",
      "94\n",
      "95\n",
      "96\n",
      "97\n",
      "98\n",
      "99\n"
     ]
    }
   ],
   "source": [
    "for i in [0, 1, 2]:\n",
    "    print(i)  # 0 \\n 1 \\n 2\n",
    "\n",
    "for i in range(100):\n",
    "    print(i)  # 0 \\n 1 \\n 2"
   ]
  },
  {
   "cell_type": "code",
   "execution_count": null,
   "metadata": {},
   "outputs": [
    {
     "name": "stdout",
     "output_type": "stream",
     "text": [
      "1 2\n",
      "3 4\n",
      "5 6\n"
     ]
    }
   ],
   "source": [
    "for a, b in [(1, 2), (3, 4), (5, 6)]:\n",
    "    print(a, b)  # 1 2 \\n 3 4 \\n 5 6"
   ]
  },
  {
   "cell_type": "code",
   "execution_count": null,
   "metadata": {},
   "outputs": [
    {
     "name": "stdout",
     "output_type": "stream",
     "text": [
      "1 [2, 3, 4]\n",
      "5 [6, 7, 8]\n"
     ]
    }
   ],
   "source": [
    "for a, *b in [(1, 2, 3, 4), (5, 6, 7, 8)]:\n",
    "    print(a, b)  # 1 [2, 3, 4] \\n 5 [6, 7, 8]"
   ]
  },
  {
   "cell_type": "code",
   "execution_count": null,
   "metadata": {},
   "outputs": [
    {
     "name": "stdout",
     "output_type": "stream",
     "text": [
      "1 [2, 3] 4\n",
      "5 [6, 7] 8\n"
     ]
    }
   ],
   "source": [
    "for a, *b, c in [(1, 2, 3, 4), (5, 6, 7, 8)]:\n",
    "    print(a, b, c)  # 1 [2, 3] 4 \\n 5 [6, 7] 8"
   ]
  },
  {
   "cell_type": "code",
   "execution_count": null,
   "metadata": {},
   "outputs": [
    {
     "name": "stdout",
     "output_type": "stream",
     "text": [
      "a\n",
      "b\n"
     ]
    }
   ],
   "source": [
    "for key in {\"a\": 1, \"b\": 2}:\n",
    "    print(key)  # a \\n b"
   ]
  },
  {
   "cell_type": "code",
   "execution_count": null,
   "metadata": {},
   "outputs": [
    {
     "name": "stdout",
     "output_type": "stream",
     "text": [
      "a 1\n",
      "b 2\n"
     ]
    }
   ],
   "source": [
    "for key, value in {\"a\": 1, \"b\": 2}.items():\n",
    "    print(key, value)  # a 1 \\n b 2"
   ]
  },
  {
   "cell_type": "markdown",
   "metadata": {},
   "source": [
    "`break` 和 `continue`"
   ]
  },
  {
   "cell_type": "code",
   "execution_count": null,
   "metadata": {},
   "outputs": [
    {
     "name": "stdout",
     "output_type": "stream",
     "text": [
      "1\n",
      "2\n"
     ]
    }
   ],
   "source": [
    "for i in range(30):\n",
    "    if i > 2:\n",
    "        break\n",
    "    if i < 1:\n",
    "        continue\n",
    "    print(i)  # 1 \\n 2"
   ]
  },
  {
   "cell_type": "markdown",
   "metadata": {},
   "source": [
    "`for ... else ...`"
   ]
  },
  {
   "cell_type": "code",
   "execution_count": 13,
   "metadata": {},
   "outputs": [
    {
     "name": "stdout",
     "output_type": "stream",
     "text": [
      "All pass!\n"
     ]
    }
   ],
   "source": [
    "scores = {\"张三\": 95, \"李四\": 69, \"王五\": 100}\n",
    "for name, score in scores.items():\n",
    "    if score < 60:\n",
    "        print(f\"{name} failed with {score}!\")  # 李四 failed with 58!\n",
    "        break\n",
    "else:\n",
    "    print(\"All pass!\")"
   ]
  },
  {
   "cell_type": "markdown",
   "metadata": {},
   "source": [
    "`while`循环\n",
    "\n",
    "```python\n",
    "while <condition>:\n",
    "    <action1>\n",
    "else:\n",
    "    <action2>\n",
    "```"
   ]
  },
  {
   "cell_type": "code",
   "execution_count": 38,
   "metadata": {},
   "outputs": [
    {
     "name": "stdout",
     "output_type": "stream",
     "text": [
      "郭泉 👋\n",
      "梁鑫 👋\n"
     ]
    },
    {
     "ename": "KeyboardInterrupt",
     "evalue": "Interrupted by user",
     "output_type": "error",
     "traceback": [
      "\u001b[0;31m---------------------------------------------------------------------------\u001b[0m",
      "\u001b[0;31mKeyboardInterrupt\u001b[0m                         Traceback (most recent call last)",
      "\u001b[1;32m/Users/guoquan/Nutstore Files/Nutstore/teaching/2023-fall/PyAI/Lecture-2/code-samples/Lec2-Sect1.ipynb Cell 107\u001b[0m line \u001b[0;36m<cell line: 1>\u001b[0;34m()\u001b[0m\n\u001b[1;32m      <a href='vscode-notebook-cell:/Users/guoquan/Nutstore%20Files/Nutstore/teaching/2023-fall/PyAI/Lecture-2/code-samples/Lec2-Sect1.ipynb#Y120sZmlsZQ%3D%3D?line=0'>1</a>\u001b[0m \u001b[39mwhile\u001b[39;00m \u001b[39mTrue\u001b[39;00m:\n\u001b[0;32m----> <a href='vscode-notebook-cell:/Users/guoquan/Nutstore%20Files/Nutstore/teaching/2023-fall/PyAI/Lecture-2/code-samples/Lec2-Sect1.ipynb#Y120sZmlsZQ%3D%3D?line=1'>2</a>\u001b[0m     name \u001b[39m=\u001b[39m \u001b[39minput\u001b[39;49m(\u001b[39m\"\u001b[39;49m\u001b[39m谁呀？\u001b[39;49m\u001b[39m\"\u001b[39;49m)\n\u001b[1;32m      <a href='vscode-notebook-cell:/Users/guoquan/Nutstore%20Files/Nutstore/teaching/2023-fall/PyAI/Lecture-2/code-samples/Lec2-Sect1.ipynb#Y120sZmlsZQ%3D%3D?line=2'>3</a>\u001b[0m     \u001b[39mprint\u001b[39m(\u001b[39mf\u001b[39m\u001b[39m\"\u001b[39m\u001b[39m{\u001b[39;00mname\u001b[39m}\u001b[39;00m\u001b[39m 👋\u001b[39m\u001b[39m\"\u001b[39m)\n",
      "File \u001b[0;32m/opt/homebrew/Caskroom/mambaforge/base/envs/pyai/lib/python3.10/site-packages/ipykernel/kernelbase.py:1177\u001b[0m, in \u001b[0;36mKernel.raw_input\u001b[0;34m(self, prompt)\u001b[0m\n\u001b[1;32m   1173\u001b[0m \u001b[39mif\u001b[39;00m \u001b[39mnot\u001b[39;00m \u001b[39mself\u001b[39m\u001b[39m.\u001b[39m_allow_stdin:\n\u001b[1;32m   1174\u001b[0m     \u001b[39mraise\u001b[39;00m StdinNotImplementedError(\n\u001b[1;32m   1175\u001b[0m         \u001b[39m\"\u001b[39m\u001b[39mraw_input was called, but this frontend does not support input requests.\u001b[39m\u001b[39m\"\u001b[39m\n\u001b[1;32m   1176\u001b[0m     )\n\u001b[0;32m-> 1177\u001b[0m \u001b[39mreturn\u001b[39;00m \u001b[39mself\u001b[39;49m\u001b[39m.\u001b[39;49m_input_request(\n\u001b[1;32m   1178\u001b[0m     \u001b[39mstr\u001b[39;49m(prompt),\n\u001b[1;32m   1179\u001b[0m     \u001b[39mself\u001b[39;49m\u001b[39m.\u001b[39;49m_parent_ident[\u001b[39m\"\u001b[39;49m\u001b[39mshell\u001b[39;49m\u001b[39m\"\u001b[39;49m],\n\u001b[1;32m   1180\u001b[0m     \u001b[39mself\u001b[39;49m\u001b[39m.\u001b[39;49mget_parent(\u001b[39m\"\u001b[39;49m\u001b[39mshell\u001b[39;49m\u001b[39m\"\u001b[39;49m),\n\u001b[1;32m   1181\u001b[0m     password\u001b[39m=\u001b[39;49m\u001b[39mFalse\u001b[39;49;00m,\n\u001b[1;32m   1182\u001b[0m )\n",
      "File \u001b[0;32m/opt/homebrew/Caskroom/mambaforge/base/envs/pyai/lib/python3.10/site-packages/ipykernel/kernelbase.py:1219\u001b[0m, in \u001b[0;36mKernel._input_request\u001b[0;34m(self, prompt, ident, parent, password)\u001b[0m\n\u001b[1;32m   1216\u001b[0m             \u001b[39mbreak\u001b[39;00m\n\u001b[1;32m   1217\u001b[0m \u001b[39mexcept\u001b[39;00m \u001b[39mKeyboardInterrupt\u001b[39;00m:\n\u001b[1;32m   1218\u001b[0m     \u001b[39m# re-raise KeyboardInterrupt, to truncate traceback\u001b[39;00m\n\u001b[0;32m-> 1219\u001b[0m     \u001b[39mraise\u001b[39;00m \u001b[39mKeyboardInterrupt\u001b[39;00m(\u001b[39m\"\u001b[39m\u001b[39mInterrupted by user\u001b[39m\u001b[39m\"\u001b[39m) \u001b[39mfrom\u001b[39;00m \u001b[39mNone\u001b[39m\n\u001b[1;32m   1220\u001b[0m \u001b[39mexcept\u001b[39;00m \u001b[39mException\u001b[39;00m:\n\u001b[1;32m   1221\u001b[0m     \u001b[39mself\u001b[39m\u001b[39m.\u001b[39mlog\u001b[39m.\u001b[39mwarning(\u001b[39m\"\u001b[39m\u001b[39mInvalid Message:\u001b[39m\u001b[39m\"\u001b[39m, exc_info\u001b[39m=\u001b[39m\u001b[39mTrue\u001b[39;00m)\n",
      "\u001b[0;31mKeyboardInterrupt\u001b[0m: Interrupted by user"
     ]
    }
   ],
   "source": [
    "while True:\n",
    "    name = input(\"谁呀？\")\n",
    "    print(f\"{name} 👋\")"
   ]
  },
  {
   "attachments": {
    "image.png": {
     "image/png": "[encoded data removed]"
    }
   },
   "cell_type": "markdown",
   "metadata": {},
   "source": [
    "Python循环的本质：迭代器与生成器\n",
    "\n",
    "![image.png](attachment:image.png)\n",
    "\n",
    "https://nvie.com/posts/iterators-vs-generators/"
   ]
  },
  {
   "cell_type": "markdown",
   "metadata": {},
   "source": [
    "循环控制语句捕获并处理了`StopIteration`“异常”"
   ]
  },
  {
   "cell_type": "code",
   "execution_count": 14,
   "metadata": {},
   "outputs": [
    {
     "name": "stdout",
     "output_type": "stream",
     "text": [
      "苹果\n",
      "香蕉\n",
      "西瓜\n"
     ]
    },
    {
     "ename": "StopIteration",
     "evalue": "",
     "output_type": "error",
     "traceback": [
      "\u001b[0;31m---------------------------------------------------------------------------\u001b[0m",
      "\u001b[0;31mStopIteration\u001b[0m                             Traceback (most recent call last)",
      "\u001b[1;32m/Users/guoquan/Nutstore Files/Nutstore/teaching/2023-fall/PyAI/Lecture-2/notebook/PyAI-Lecture-2.ipynb Cell 114\u001b[0m line \u001b[0;36m<cell line: 7>\u001b[0;34m()\u001b[0m\n\u001b[1;32m      <a href='vscode-notebook-cell:/Users/guoquan/Nutstore%20Files/Nutstore/teaching/2023-fall/PyAI/Lecture-2/notebook/PyAI-Lecture-2.ipynb#Y216sZmlsZQ%3D%3D?line=4'>5</a>\u001b[0m \u001b[39mprint\u001b[39m(\u001b[39mnext\u001b[39m(iterator))  \u001b[39m# 香蕉\u001b[39;00m\n\u001b[1;32m      <a href='vscode-notebook-cell:/Users/guoquan/Nutstore%20Files/Nutstore/teaching/2023-fall/PyAI/Lecture-2/notebook/PyAI-Lecture-2.ipynb#Y216sZmlsZQ%3D%3D?line=5'>6</a>\u001b[0m \u001b[39mprint\u001b[39m(\u001b[39mnext\u001b[39m(iterator))  \u001b[39m# 西瓜\u001b[39;00m\n\u001b[0;32m----> <a href='vscode-notebook-cell:/Users/guoquan/Nutstore%20Files/Nutstore/teaching/2023-fall/PyAI/Lecture-2/notebook/PyAI-Lecture-2.ipynb#Y216sZmlsZQ%3D%3D?line=6'>7</a>\u001b[0m \u001b[39mprint\u001b[39m(\u001b[39mnext\u001b[39;49m(iterator))\n",
      "\u001b[0;31mStopIteration\u001b[0m: "
     ]
    }
   ],
   "source": [
    "array = [\"苹果\", \"香蕉\", \"西瓜\"]  # container\n",
    "iterator = iter(array)  # iterator\n",
    "\n",
    "print(next(iterator))  # 苹果\n",
    "print(next(iterator))  # 香蕉\n",
    "print(next(iterator))  # 西瓜\n",
    "print(next(iterator))  # StopIteration"
   ]
  },
  {
   "cell_type": "markdown",
   "metadata": {},
   "source": [
    "对于无限长度的序列，会继续循环下去"
   ]
  },
  {
   "cell_type": "code",
   "execution_count": 15,
   "metadata": {},
   "outputs": [
    {
     "name": "stdout",
     "output_type": "stream",
     "text": [
      "0\n",
      "1\n",
      "1\n",
      "2\n",
      "3\n"
     ]
    }
   ],
   "source": [
    "def fib():  # generator function\n",
    "    a, b = 0, 1\n",
    "    while True:\n",
    "        yield a\n",
    "        a, b = b, a + b\n",
    "\n",
    "iterator = fib()  # iterator\n",
    "\n",
    "print(next(iterator))  # 1\n",
    "print(next(iterator))  # 1\n",
    "print(next(iterator))  # 2\n",
    "print(next(iterator))  # 3\n",
    "print(next(iterator))  # 5"
   ]
  },
  {
   "cell_type": "code",
   "execution_count": 26,
   "metadata": {},
   "outputs": [
    {
     "data": {
      "text/plain": [
       "610"
      ]
     },
     "execution_count": 26,
     "metadata": {},
     "output_type": "execute_result"
    }
   ],
   "source": [
    "next(iterator)"
   ]
  },
  {
   "cell_type": "code",
   "execution_count": 27,
   "metadata": {},
   "outputs": [
    {
     "name": "stdout",
     "output_type": "stream",
     "text": [
      "0\n",
      "1\n",
      "1\n",
      "2\n",
      "3\n",
      "5\n",
      "8\n",
      "13\n",
      "21\n",
      "34\n",
      "55\n",
      "89\n",
      "144\n",
      "233\n",
      "377\n",
      "610\n",
      "987\n",
      "1597\n"
     ]
    }
   ],
   "source": [
    "for i in fib():\n",
    "    print(i)\n",
    "    if i > 1000:\n",
    "        break"
   ]
  },
  {
   "cell_type": "markdown",
   "metadata": {},
   "source": [
    "迭代器与生成器从哪里来？\n",
    "- 列表（及其他容器类型）\n",
    "- 列表推导式\n",
    "- 生成器函数\n",
    "- itertools"
   ]
  },
  {
   "cell_type": "markdown",
   "metadata": {},
   "source": [
    "列表推导式\n",
    "\n",
    "```python\n",
    "[ <expr> for <var> in <iterable> if <condition> ]\n",
    "```\n",
    "\n",
    "```python\n",
    "{ <expr_k>: <expr_v> for <var> in <iterable> if <condition> }\n",
    "```"
   ]
  },
  {
   "cell_type": "code",
   "execution_count": 30,
   "metadata": {},
   "outputs": [
    {
     "data": {
      "text/plain": [
       "['A',\n",
       " 'B',\n",
       " 'C',\n",
       " 'D',\n",
       " 'E',\n",
       " 'F',\n",
       " 'G',\n",
       " 'H',\n",
       " 'I',\n",
       " 'J',\n",
       " 'K',\n",
       " 'L',\n",
       " 'M',\n",
       " 'N',\n",
       " 'O',\n",
       " 'P',\n",
       " 'Q',\n",
       " 'R',\n",
       " 'S',\n",
       " 'T',\n",
       " 'U',\n",
       " 'V',\n",
       " 'W',\n",
       " 'X',\n",
       " 'Y',\n",
       " 'Z']"
      ]
     },
     "execution_count": 30,
     "metadata": {},
     "output_type": "execute_result"
    }
   ],
   "source": [
    "[x ** 3 for x in [1,2,3,4,5]]  # [1, 4, 9, 16, 25]\n",
    "[chr(c) for c in range(65, 91)]  # A-Z\n",
    "[chr(65 + c) for c in range(26) if c % 5 == 0]  # ['A', 'F', 'K', 'P', 'U', 'Z']\n",
    "# [(x, y) for x in [1, 2, 3] for y in [4, 5, 6] if x + y == 7]  # [(1, 6), (2, 5), (3, 4)]"
   ]
  },
  {
   "cell_type": "code",
   "execution_count": 42,
   "metadata": {},
   "outputs": [
    {
     "data": {
      "text/plain": [
       "{'a': 1, 'b': 2, 'c': 3}"
      ]
     },
     "execution_count": 42,
     "metadata": {},
     "output_type": "execute_result"
    }
   ],
   "source": [
    "{x: x ** 2 for x in range(3)}  # {0: 0, 1: 1, 2: 4}\n",
    "{v: k for k, v in {1: \"a\", 2: \"b\", 3: \"c\"}.items()}  # {'a': 1, 'b': 2, 'c': 3}"
   ]
  },
  {
   "cell_type": "markdown",
   "metadata": {},
   "source": [
    "生成器函数"
   ]
  },
  {
   "cell_type": "code",
   "execution_count": null,
   "metadata": {},
   "outputs": [],
   "source": [
    "enumerate([\"苹果\", \"香蕉\", \"西瓜\"])  # (0, '苹果') (1, '香蕉') (2, '西瓜')\n",
    "zip([1, 2, 3], [4, 5, 6])  # [(1, 4), (2, 5), (3, 6)]\n",
    "map(chr, range(65, 91))  # A-Z\n",
    "filter(float, [\"0.1\", \"0.\", \".0\", \"0.0\"])  # [0.1]"
   ]
  },
  {
   "cell_type": "code",
   "execution_count": null,
   "metadata": {},
   "outputs": [
    {
     "data": {
      "text/plain": [
       "[(0, '苹果'), (1, '香蕉'), (2, '西瓜')]"
      ]
     },
     "execution_count": 52,
     "metadata": {},
     "output_type": "execute_result"
    }
   ],
   "source": [
    "list( enumerate([\"苹果\", \"香蕉\", \"西瓜\"]) )  # (0, '苹果') (1, '香蕉') (2, '西瓜')"
   ]
  },
  {
   "cell_type": "code",
   "execution_count": null,
   "metadata": {},
   "outputs": [
    {
     "data": {
      "text/plain": [
       "[(1, 4), (2, 5), (3, 6)]"
      ]
     },
     "execution_count": 53,
     "metadata": {},
     "output_type": "execute_result"
    }
   ],
   "source": [
    "list( zip([1, 2, 3], [4, 5, 6]) )  # [(1, 4), (2, 5), (3, 6)]"
   ]
  },
  {
   "cell_type": "code",
   "execution_count": null,
   "metadata": {},
   "outputs": [
    {
     "data": {
      "text/plain": [
       "['A',\n",
       " 'B',\n",
       " 'C',\n",
       " 'D',\n",
       " 'E',\n",
       " 'F',\n",
       " 'G',\n",
       " 'H',\n",
       " 'I',\n",
       " 'J',\n",
       " 'K',\n",
       " 'L',\n",
       " 'M',\n",
       " 'N',\n",
       " 'O',\n",
       " 'P',\n",
       " 'Q',\n",
       " 'R',\n",
       " 'S',\n",
       " 'T',\n",
       " 'U',\n",
       " 'V',\n",
       " 'W',\n",
       " 'X',\n",
       " 'Y',\n",
       " 'Z']"
      ]
     },
     "execution_count": 54,
     "metadata": {},
     "output_type": "execute_result"
    }
   ],
   "source": [
    "list( map(chr, range(65, 91)) )  # A-Z"
   ]
  },
  {
   "cell_type": "code",
   "execution_count": null,
   "metadata": {},
   "outputs": [
    {
     "data": {
      "text/plain": [
       "['0.1']"
      ]
     },
     "execution_count": 55,
     "metadata": {},
     "output_type": "execute_result"
    }
   ],
   "source": [
    "list( filter(float, [\"0.1\", \"0.\", \".0\", \"0.0\"]) )  # [0.1]"
   ]
  },
  {
   "cell_type": "markdown",
   "metadata": {},
   "source": [
    "`itertools`"
   ]
  },
  {
   "cell_type": "code",
   "execution_count": null,
   "metadata": {},
   "outputs": [],
   "source": [
    "from itertools import chain, product, permutations\n",
    "\n",
    "a = [\"1\", \"2\", \"3\"]\n",
    "b = [\"a\", \"b\", \"c\"]\n",
    "\n",
    "for v in chain(a, b):\n",
    "    # 1 \\n 2 \\n 3 \\n a \\n b \\n c\n",
    "    print(v)\n",
    "\n",
    "for i, j in product(a, b):\n",
    "    # 1 a \\n 1 b \\n 1 c\n",
    "    # 2 a \\n 2 b \\n 2 c\n",
    "    # 3 a \\n 3 b \\n 3 c\n",
    "    print(i, j)\n",
    "\n",
    "for i, j, k in permutations(a):\n",
    "    # 1 2 3 \n",
    "    # 1 3 2 \n",
    "    # 2 1 3 \n",
    "    # 2 3 1\n",
    "    # 3 1 2\n",
    "    # 3 2 1\n",
    "    print(i, j, k)"
   ]
  },
  {
   "cell_type": "code",
   "execution_count": null,
   "metadata": {},
   "outputs": [
    {
     "name": "stdout",
     "output_type": "stream",
     "text": [
      "1\n",
      "2\n",
      "3\n",
      "a\n",
      "b\n",
      "c\n"
     ]
    }
   ],
   "source": []
  },
  {
   "cell_type": "code",
   "execution_count": null,
   "metadata": {},
   "outputs": [
    {
     "name": "stdout",
     "output_type": "stream",
     "text": [
      "1 a\n",
      "1 b\n",
      "1 c\n",
      "2 a\n",
      "2 b\n",
      "2 c\n",
      "3 a\n",
      "3 b\n",
      "3 c\n"
     ]
    }
   ],
   "source": []
  },
  {
   "cell_type": "code",
   "execution_count": null,
   "metadata": {},
   "outputs": [
    {
     "name": "stdout",
     "output_type": "stream",
     "text": [
      "1 2 3\n",
      "1 3 2\n",
      "2 1 3\n",
      "2 3 1\n",
      "3 1 2\n",
      "3 2 1\n"
     ]
    }
   ],
   "source": [
    "for i, j, k in permutations(a):\n",
    "    # 1 2 3 \\n 1 3 2 \\n 2 1 3 \\n 2 3 1 \\n 3 1 2 \\n 3 2 1\n",
    "    print(i, j, k)"
   ]
  },
  {
   "cell_type": "markdown",
   "metadata": {},
   "source": [
    "## 函数"
   ]
  },
  {
   "cell_type": "markdown",
   "metadata": {},
   "source": [
    "- 可被引用的代码单元\n",
    "- 完成特点功能的代码单元\n",
    "\n",
    "定义函数\n",
    "```python\n",
    "def <function_name>(<parameter_list>):\n",
    "    <statement_list>\n",
    "```\n",
    "\n",
    "调用函数\n",
    "```python\n",
    "<function_name>(<argument_list>)\n",
    "```\n",
    "\n",
    "丰富的内置函数\n",
    "- 输入输出：print, input\n",
    "- 类型：int, float, str, tuple, list, dict\n",
    "- 生成器：range, sorted, reversed, enumerate, zip, map, filter, chain, product, permutations\n",
    "- 其他：len, chr\n"
   ]
  },
  {
   "cell_type": "code",
   "execution_count": 45,
   "metadata": {},
   "outputs": [
    {
     "data": {
      "text/plain": [
       "16"
      ]
     },
     "execution_count": 45,
     "metadata": {},
     "output_type": "execute_result"
    }
   ],
   "source": [
    "def square_area(a):\n",
    "    return a ** 2\n",
    "\n",
    "square_area(4)  # 16"
   ]
  },
  {
   "cell_type": "markdown",
   "metadata": {},
   "source": [
    "递归"
   ]
  },
  {
   "cell_type": "code",
   "execution_count": 31,
   "metadata": {},
   "outputs": [],
   "source": [
    "def fib(n):\n",
    "    if n < 2:\n",
    "        return n\n",
    "    return fib(n - 1) + fib(n - 2)"
   ]
  },
  {
   "cell_type": "code",
   "execution_count": 33,
   "metadata": {},
   "outputs": [
    {
     "ename": "KeyboardInterrupt",
     "evalue": "",
     "output_type": "error",
     "traceback": [
      "\u001b[0;31m---------------------------------------------------------------------------\u001b[0m",
      "\u001b[0;31mKeyboardInterrupt\u001b[0m                         Traceback (most recent call last)",
      "\u001b[1;32m/Users/guoquan/Nutstore Files/Nutstore/teaching/2023-fall/PyAI/Lecture-2/notebook/PyAI-Lecture-2.ipynb Cell 139\u001b[0m line \u001b[0;36m<cell line: 1>\u001b[0;34m()\u001b[0m\n\u001b[0;32m----> <a href='vscode-notebook-cell:/Users/guoquan/Nutstore%20Files/Nutstore/teaching/2023-fall/PyAI/Lecture-2/notebook/PyAI-Lecture-2.ipynb#Y252sZmlsZQ%3D%3D?line=0'>1</a>\u001b[0m fib(\u001b[39m100\u001b[39;49m)\n",
      "\u001b[1;32m/Users/guoquan/Nutstore Files/Nutstore/teaching/2023-fall/PyAI/Lecture-2/notebook/PyAI-Lecture-2.ipynb Cell 139\u001b[0m line \u001b[0;36mfib\u001b[0;34m(n)\u001b[0m\n\u001b[1;32m      <a href='vscode-notebook-cell:/Users/guoquan/Nutstore%20Files/Nutstore/teaching/2023-fall/PyAI/Lecture-2/notebook/PyAI-Lecture-2.ipynb#Y252sZmlsZQ%3D%3D?line=1'>2</a>\u001b[0m \u001b[39mif\u001b[39;00m n \u001b[39m<\u001b[39m \u001b[39m2\u001b[39m:\n\u001b[1;32m      <a href='vscode-notebook-cell:/Users/guoquan/Nutstore%20Files/Nutstore/teaching/2023-fall/PyAI/Lecture-2/notebook/PyAI-Lecture-2.ipynb#Y252sZmlsZQ%3D%3D?line=2'>3</a>\u001b[0m     \u001b[39mreturn\u001b[39;00m n\n\u001b[0;32m----> <a href='vscode-notebook-cell:/Users/guoquan/Nutstore%20Files/Nutstore/teaching/2023-fall/PyAI/Lecture-2/notebook/PyAI-Lecture-2.ipynb#Y252sZmlsZQ%3D%3D?line=3'>4</a>\u001b[0m \u001b[39mreturn\u001b[39;00m fib(n \u001b[39m-\u001b[39;49m \u001b[39m1\u001b[39;49m) \u001b[39m+\u001b[39m fib(n \u001b[39m-\u001b[39m \u001b[39m2\u001b[39m)\n",
      "\u001b[1;32m/Users/guoquan/Nutstore Files/Nutstore/teaching/2023-fall/PyAI/Lecture-2/notebook/PyAI-Lecture-2.ipynb Cell 139\u001b[0m line \u001b[0;36mfib\u001b[0;34m(n)\u001b[0m\n\u001b[1;32m      <a href='vscode-notebook-cell:/Users/guoquan/Nutstore%20Files/Nutstore/teaching/2023-fall/PyAI/Lecture-2/notebook/PyAI-Lecture-2.ipynb#Y252sZmlsZQ%3D%3D?line=1'>2</a>\u001b[0m \u001b[39mif\u001b[39;00m n \u001b[39m<\u001b[39m \u001b[39m2\u001b[39m:\n\u001b[1;32m      <a href='vscode-notebook-cell:/Users/guoquan/Nutstore%20Files/Nutstore/teaching/2023-fall/PyAI/Lecture-2/notebook/PyAI-Lecture-2.ipynb#Y252sZmlsZQ%3D%3D?line=2'>3</a>\u001b[0m     \u001b[39mreturn\u001b[39;00m n\n\u001b[0;32m----> <a href='vscode-notebook-cell:/Users/guoquan/Nutstore%20Files/Nutstore/teaching/2023-fall/PyAI/Lecture-2/notebook/PyAI-Lecture-2.ipynb#Y252sZmlsZQ%3D%3D?line=3'>4</a>\u001b[0m \u001b[39mreturn\u001b[39;00m fib(n \u001b[39m-\u001b[39;49m \u001b[39m1\u001b[39;49m) \u001b[39m+\u001b[39m fib(n \u001b[39m-\u001b[39m \u001b[39m2\u001b[39m)\n",
      "    \u001b[0;31m[... skipping similar frames: fib at line 4 (85 times)]\u001b[0m\n",
      "\u001b[1;32m/Users/guoquan/Nutstore Files/Nutstore/teaching/2023-fall/PyAI/Lecture-2/notebook/PyAI-Lecture-2.ipynb Cell 139\u001b[0m line \u001b[0;36mfib\u001b[0;34m(n)\u001b[0m\n\u001b[1;32m      <a href='vscode-notebook-cell:/Users/guoquan/Nutstore%20Files/Nutstore/teaching/2023-fall/PyAI/Lecture-2/notebook/PyAI-Lecture-2.ipynb#Y252sZmlsZQ%3D%3D?line=1'>2</a>\u001b[0m \u001b[39mif\u001b[39;00m n \u001b[39m<\u001b[39m \u001b[39m2\u001b[39m:\n\u001b[1;32m      <a href='vscode-notebook-cell:/Users/guoquan/Nutstore%20Files/Nutstore/teaching/2023-fall/PyAI/Lecture-2/notebook/PyAI-Lecture-2.ipynb#Y252sZmlsZQ%3D%3D?line=2'>3</a>\u001b[0m     \u001b[39mreturn\u001b[39;00m n\n\u001b[0;32m----> <a href='vscode-notebook-cell:/Users/guoquan/Nutstore%20Files/Nutstore/teaching/2023-fall/PyAI/Lecture-2/notebook/PyAI-Lecture-2.ipynb#Y252sZmlsZQ%3D%3D?line=3'>4</a>\u001b[0m \u001b[39mreturn\u001b[39;00m fib(n \u001b[39m-\u001b[39m \u001b[39m1\u001b[39m) \u001b[39m+\u001b[39m fib(n \u001b[39m-\u001b[39;49m \u001b[39m2\u001b[39;49m)\n",
      "\u001b[1;32m/Users/guoquan/Nutstore Files/Nutstore/teaching/2023-fall/PyAI/Lecture-2/notebook/PyAI-Lecture-2.ipynb Cell 139\u001b[0m line \u001b[0;36mfib\u001b[0;34m(n)\u001b[0m\n\u001b[0;32m----> <a href='vscode-notebook-cell:/Users/guoquan/Nutstore%20Files/Nutstore/teaching/2023-fall/PyAI/Lecture-2/notebook/PyAI-Lecture-2.ipynb#Y252sZmlsZQ%3D%3D?line=0'>1</a>\u001b[0m \u001b[39mdef\u001b[39;00m \u001b[39mfib\u001b[39m(n):\n\u001b[1;32m      <a href='vscode-notebook-cell:/Users/guoquan/Nutstore%20Files/Nutstore/teaching/2023-fall/PyAI/Lecture-2/notebook/PyAI-Lecture-2.ipynb#Y252sZmlsZQ%3D%3D?line=1'>2</a>\u001b[0m     \u001b[39mif\u001b[39;00m n \u001b[39m<\u001b[39m \u001b[39m2\u001b[39m:\n\u001b[1;32m      <a href='vscode-notebook-cell:/Users/guoquan/Nutstore%20Files/Nutstore/teaching/2023-fall/PyAI/Lecture-2/notebook/PyAI-Lecture-2.ipynb#Y252sZmlsZQ%3D%3D?line=2'>3</a>\u001b[0m         \u001b[39mreturn\u001b[39;00m n\n",
      "\u001b[0;31mKeyboardInterrupt\u001b[0m: "
     ]
    }
   ],
   "source": [
    "fib(100)  # 55"
   ]
  },
  {
   "cell_type": "markdown",
   "metadata": {},
   "source": [
    "### 参数"
   ]
  },
  {
   "cell_type": "markdown",
   "metadata": {},
   "source": [
    "默认参数"
   ]
  },
  {
   "cell_type": "code",
   "execution_count": 44,
   "metadata": {},
   "outputs": [
    {
     "data": {
      "text/plain": [
       "50.26548245743669"
      ]
     },
     "execution_count": 44,
     "metadata": {},
     "output_type": "execute_result"
    }
   ],
   "source": [
    "from math import pi\n",
    "\n",
    "\n",
    "def area(r, shape=\"circle\"):\n",
    "    if shape == \"circle\":\n",
    "        return pi * r ** 2\n",
    "    elif shape == \"square\":\n",
    "        return r ** 2\n",
    "    raise ValueError(\"Invalid shape\")\n",
    "\n",
    "area(4)  # 50.26548245743669"
   ]
  },
  {
   "cell_type": "code",
   "execution_count": 46,
   "metadata": {},
   "outputs": [
    {
     "data": {
      "text/plain": [
       "16"
      ]
     },
     "execution_count": 46,
     "metadata": {},
     "output_type": "execute_result"
    }
   ],
   "source": [
    "area(4, \"square\")  # or try with \"circle\""
   ]
  },
  {
   "cell_type": "markdown",
   "metadata": {},
   "source": [
    "更复杂的参数列表"
   ]
  },
  {
   "cell_type": "code",
   "execution_count": 53,
   "metadata": {},
   "outputs": [],
   "source": [
    "def func(arg1, arg2, arg3, arg4=None, arg5=None):\n",
    "    print(arg1, arg2, arg3, arg4, arg5)"
   ]
  },
  {
   "cell_type": "code",
   "execution_count": 54,
   "metadata": {},
   "outputs": [
    {
     "name": "stdout",
     "output_type": "stream",
     "text": [
      "1 2 3 4 5\n",
      "1 2 3 None 5\n"
     ]
    },
    {
     "ename": "TypeError",
     "evalue": "func() got multiple values for argument 'arg2'",
     "output_type": "error",
     "traceback": [
      "\u001b[0;31m---------------------------------------------------------------------------\u001b[0m",
      "\u001b[0;31mTypeError\u001b[0m                                 Traceback (most recent call last)",
      "\u001b[1;32m/Users/guoquan/Nutstore Files/Nutstore/teaching/2023-fall/PyAI/Lecture-2/code-samples/Lec2-Sect1.ipynb Cell 140\u001b[0m line \u001b[0;36m<cell line: 3>\u001b[0;34m()\u001b[0m\n\u001b[1;32m      <a href='vscode-notebook-cell:/Users/guoquan/Nutstore%20Files/Nutstore/teaching/2023-fall/PyAI/Lecture-2/code-samples/Lec2-Sect1.ipynb#Y414sZmlsZQ%3D%3D?line=0'>1</a>\u001b[0m func(\u001b[39m1\u001b[39m, \u001b[39m2\u001b[39m, \u001b[39m3\u001b[39m, \u001b[39m4\u001b[39m, \u001b[39m5\u001b[39m)  \u001b[39m# 1 2 3 4 5\u001b[39;00m\n\u001b[1;32m      <a href='vscode-notebook-cell:/Users/guoquan/Nutstore%20Files/Nutstore/teaching/2023-fall/PyAI/Lecture-2/code-samples/Lec2-Sect1.ipynb#Y414sZmlsZQ%3D%3D?line=1'>2</a>\u001b[0m func(\u001b[39m1\u001b[39m, arg3\u001b[39m=\u001b[39m\u001b[39m3\u001b[39m, arg5\u001b[39m=\u001b[39m\u001b[39m5\u001b[39m, arg2\u001b[39m=\u001b[39m\u001b[39m2\u001b[39m)  \u001b[39m# 1 2 3 4 5\u001b[39;00m\n\u001b[0;32m----> <a href='vscode-notebook-cell:/Users/guoquan/Nutstore%20Files/Nutstore/teaching/2023-fall/PyAI/Lecture-2/code-samples/Lec2-Sect1.ipynb#Y414sZmlsZQ%3D%3D?line=2'>3</a>\u001b[0m func(\u001b[39m1\u001b[39;49m, \u001b[39m2\u001b[39;49m, arg2\u001b[39m=\u001b[39;49m\u001b[39m2\u001b[39;49m, arg3\u001b[39m=\u001b[39;49m\u001b[39m3\u001b[39;49m)\n",
      "\u001b[0;31mTypeError\u001b[0m: func() got multiple values for argument 'arg2'"
     ]
    }
   ],
   "source": [
    "func(1, 2, 3, 4, 5)  # 1 2 3 4 5\n",
    "func(1, arg3=3, arg5=5, arg2=2)  # 1 2 3 4 5\n",
    "func(1, 2, arg2=2, arg3=3)  # TypeError"
   ]
  },
  {
   "cell_type": "code",
   "execution_count": 55,
   "metadata": {},
   "outputs": [
    {
     "name": "stdout",
     "output_type": "stream",
     "text": [
      "1 (2,) 3 4 {'arg5': 5}\n"
     ]
    },
    {
     "ename": "TypeError",
     "evalue": "func() missing 1 required keyword-only argument: 'arg3'",
     "output_type": "error",
     "traceback": [
      "\u001b[0;31m---------------------------------------------------------------------------\u001b[0m",
      "\u001b[0;31mTypeError\u001b[0m                                 Traceback (most recent call last)",
      "\u001b[1;32m/Users/guoquan/Nutstore Files/Nutstore/teaching/2023-fall/PyAI/Lecture-2/code-samples/Lec2-Sect1.ipynb Cell 141\u001b[0m line \u001b[0;36m<cell line: 5>\u001b[0;34m()\u001b[0m\n\u001b[1;32m      <a href='vscode-notebook-cell:/Users/guoquan/Nutstore%20Files/Nutstore/teaching/2023-fall/PyAI/Lecture-2/code-samples/Lec2-Sect1.ipynb#Y161sZmlsZQ%3D%3D?line=1'>2</a>\u001b[0m     \u001b[39mprint\u001b[39m(arg1, args, arg3, arg4, kwargs)\n\u001b[1;32m      <a href='vscode-notebook-cell:/Users/guoquan/Nutstore%20Files/Nutstore/teaching/2023-fall/PyAI/Lecture-2/code-samples/Lec2-Sect1.ipynb#Y161sZmlsZQ%3D%3D?line=3'>4</a>\u001b[0m func(\u001b[39m1\u001b[39m, \u001b[39m2\u001b[39m, arg3\u001b[39m=\u001b[39m\u001b[39m3\u001b[39m, arg4\u001b[39m=\u001b[39m\u001b[39m4\u001b[39m, arg5\u001b[39m=\u001b[39m\u001b[39m5\u001b[39m)  \u001b[39m# args = (2,) kwargs = {'arg5': 5}\u001b[39;00m\n\u001b[0;32m----> <a href='vscode-notebook-cell:/Users/guoquan/Nutstore%20Files/Nutstore/teaching/2023-fall/PyAI/Lecture-2/code-samples/Lec2-Sect1.ipynb#Y161sZmlsZQ%3D%3D?line=4'>5</a>\u001b[0m func(\u001b[39m1\u001b[39;49m, \u001b[39m2\u001b[39;49m, \u001b[39m3\u001b[39;49m, \u001b[39m4\u001b[39;49m, \u001b[39m5\u001b[39;49m)\n",
      "\u001b[0;31mTypeError\u001b[0m: func() missing 1 required keyword-only argument: 'arg3'"
     ]
    }
   ],
   "source": [
    "def func(arg1, *args, arg3, arg4=None, **kwargs):\n",
    "    print(arg1, args, arg3, arg4, kwargs)\n",
    "\n",
    "func(1, 2, arg3=3, arg4=4, arg5=5)  # args = (2,) kwargs = {'arg5': 5}\n",
    "func(1, 2, 3, 4, 5)  # TypeError"
   ]
  },
  {
   "cell_type": "code",
   "execution_count": 56,
   "metadata": {},
   "outputs": [
    {
     "name": "stdout",
     "output_type": "stream",
     "text": [
      "1 (2,) 3 4 {'arg5': 5}\n"
     ]
    }
   ],
   "source": [
    "func(1, 2, arg3=3, arg4=4, arg5=5)  # args = (2,) kwargs = {'arg5': 5}"
   ]
  },
  {
   "cell_type": "code",
   "execution_count": 57,
   "metadata": {},
   "outputs": [
    {
     "ename": "TypeError",
     "evalue": "func() missing 1 required keyword-only argument: 'arg3'",
     "output_type": "error",
     "traceback": [
      "\u001b[0;31m---------------------------------------------------------------------------\u001b[0m",
      "\u001b[0;31mTypeError\u001b[0m                                 Traceback (most recent call last)",
      "\u001b[1;32m/Users/guoquan/Nutstore Files/Nutstore/teaching/2023-fall/PyAI/Lecture-2/code-samples/Lec2-Sect1.ipynb Cell 143\u001b[0m line \u001b[0;36m<cell line: 1>\u001b[0;34m()\u001b[0m\n\u001b[0;32m----> <a href='vscode-notebook-cell:/Users/guoquan/Nutstore%20Files/Nutstore/teaching/2023-fall/PyAI/Lecture-2/code-samples/Lec2-Sect1.ipynb#Y163sZmlsZQ%3D%3D?line=0'>1</a>\u001b[0m func(\u001b[39m1\u001b[39;49m, \u001b[39m2\u001b[39;49m, \u001b[39m3\u001b[39;49m, \u001b[39m4\u001b[39;49m, \u001b[39m5\u001b[39;49m)\n",
      "\u001b[0;31mTypeError\u001b[0m: func() missing 1 required keyword-only argument: 'arg3'"
     ]
    }
   ],
   "source": [
    "func(1, 2, 3, 4, 5)  # TypeError"
   ]
  },
  {
   "cell_type": "markdown",
   "metadata": {},
   "source": [
    "### 生成器函数 👆"
   ]
  },
  {
   "cell_type": "markdown",
   "metadata": {},
   "source": [
    "例：`range`函数"
   ]
  },
  {
   "cell_type": "code",
   "execution_count": 41,
   "metadata": {},
   "outputs": [],
   "source": [
    "def range_(n):\n",
    "    series = []\n",
    "    i = 0\n",
    "    while i < n:\n",
    "        series.append(i)\n",
    "        print(\"ooo\")\n",
    "        i += 1\n",
    "    return series"
   ]
  },
  {
   "cell_type": "code",
   "execution_count": 42,
   "metadata": {},
   "outputs": [
    {
     "name": "stdout",
     "output_type": "stream",
     "text": [
      "ooo\n",
      "ooo\n",
      "ooo\n",
      "ooo\n",
      "ooo\n",
      "[0, 1, 2, 3, 4]\n",
      "ooo\n",
      "ooo\n",
      "ooo\n",
      "ooo\n",
      "ooo\n",
      "0\n",
      "1\n",
      "2\n",
      "3\n",
      "4\n"
     ]
    }
   ],
   "source": [
    "print(range_(5))\n",
    "for i in range_(5):\n",
    "    print(i)"
   ]
  },
  {
   "cell_type": "code",
   "execution_count": 39,
   "metadata": {},
   "outputs": [],
   "source": [
    "def range_(n):\n",
    "    i = 0\n",
    "    while i < n:\n",
    "        yield i\n",
    "        print(\"ooo\")\n",
    "        i += 1"
   ]
  },
  {
   "cell_type": "code",
   "execution_count": 40,
   "metadata": {},
   "outputs": [
    {
     "name": "stdout",
     "output_type": "stream",
     "text": [
      "<generator object range_ at 0x111fe1930>\n",
      "0\n",
      "ooo\n",
      "1\n",
      "ooo\n",
      "2\n",
      "ooo\n",
      "3\n",
      "ooo\n",
      "4\n",
      "ooo\n"
     ]
    }
   ],
   "source": [
    "print(range_(5))\n",
    "for i in range_(5):\n",
    "    print(i)"
   ]
  },
  {
   "cell_type": "markdown",
   "metadata": {},
   "source": [
    "例：斐波那契数列"
   ]
  },
  {
   "cell_type": "code",
   "execution_count": 76,
   "metadata": {},
   "outputs": [
    {
     "name": "stdout",
     "output_type": "stream",
     "text": [
      "0\n",
      "1\n",
      "1\n",
      "2\n",
      "3\n",
      "5\n",
      "8\n",
      "13\n",
      "21\n",
      "34\n"
     ]
    }
   ],
   "source": [
    "def fib(n):\n",
    "    if n == 1:\n",
    "        return [0]\n",
    "    if n == 2:\n",
    "        return [0, 1]\n",
    "    series = fib(n - 1)\n",
    "    return series + [series[-1] + series[-2]]\n",
    "\n",
    "for i in fib(10):\n",
    "    print(i)"
   ]
  },
  {
   "cell_type": "code",
   "execution_count": 75,
   "metadata": {},
   "outputs": [
    {
     "name": "stdout",
     "output_type": "stream",
     "text": [
      "0\n",
      "1\n",
      "1\n",
      "2\n",
      "3\n",
      "5\n",
      "8\n",
      "13\n",
      "21\n",
      "34\n"
     ]
    }
   ],
   "source": [
    "def fib(n):\n",
    "    series = []\n",
    "    a, b = 0, 1\n",
    "    for _ in range(n):\n",
    "        series.append(a)\n",
    "        a, b = b, a + b\n",
    "    return series\n",
    "\n",
    "for i in fib(10):\n",
    "    print(i)"
   ]
  },
  {
   "cell_type": "code",
   "execution_count": 43,
   "metadata": {},
   "outputs": [
    {
     "name": "stdout",
     "output_type": "stream",
     "text": [
      "0\n",
      "1\n",
      "1\n",
      "2\n",
      "3\n",
      "5\n",
      "8\n",
      "13\n",
      "21\n",
      "34\n"
     ]
    }
   ],
   "source": [
    "def fib(n):\n",
    "    a, b = 0, 1\n",
    "    for _ in range(n):\n",
    "        yield a\n",
    "        a, b = b, a + b\n",
    "\n",
    "for i in fib(10):\n",
    "    print(i)"
   ]
  },
  {
   "cell_type": "code",
   "execution_count": 45,
   "metadata": {},
   "outputs": [
    {
     "name": "stdout",
     "output_type": "stream",
     "text": [
      "0\n",
      "1\n",
      "1\n",
      "2\n",
      "3\n",
      "5\n",
      "8\n",
      "13\n",
      "21\n",
      "34\n",
      "55\n",
      "89\n",
      "144\n",
      "233\n",
      "377\n"
     ]
    }
   ],
   "source": [
    "def fib():\n",
    "    a, b = 0, 1\n",
    "    while True:\n",
    "        yield a\n",
    "        a, b = b, a + b\n",
    "\n",
    "for i in fib():\n",
    "    print(i)\n",
    "    if i > 300:\n",
    "        break"
   ]
  },
  {
   "cell_type": "markdown",
   "metadata": {},
   "source": [
    "### 匿名函数\n",
    "\n",
    "```python\n",
    "lambda <parameter_list>: <statement_list>\n",
    "```"
   ]
  },
  {
   "cell_type": "code",
   "execution_count": null,
   "metadata": {},
   "outputs": [
    {
     "data": {
      "text/plain": [
       "[1, 4, 9, 16, 25]"
      ]
     },
     "execution_count": 78,
     "metadata": {},
     "output_type": "execute_result"
    }
   ],
   "source": [
    "list(map(lambda x: x ** 2, [1, 2, 3, 4, 5]))  # [1, 4, 9, 16, 25]\n",
    "\n",
    "for v in sorted([2, 1, 4, 3, 5], key=lambda x: -x):  # [5, 4, 3, 2, 1]\n",
    "    print(v)"
   ]
  },
  {
   "cell_type": "markdown",
   "metadata": {},
   "source": [
    "### 变量作用域"
   ]
  },
  {
   "cell_type": "markdown",
   "metadata": {},
   "source": [
    "变量解析的LEBG原则：Local - Enclosing scope - Global (Module) - Build-ins\n",
    "\n",
    "Python中变量的作用域最小单位为函数\n"
   ]
  },
  {
   "cell_type": "code",
   "execution_count": 61,
   "metadata": {},
   "outputs": [],
   "source": [
    "global a, b, c\n",
    "a = 1\n",
    "b = 2\n",
    "c = 3"
   ]
  },
  {
   "cell_type": "code",
   "execution_count": 46,
   "metadata": {},
   "outputs": [
    {
     "name": "stdout",
     "output_type": "stream",
     "text": [
      "built-in True\n",
      "global 1\n",
      "enclosing 22\n",
      "local 333\n"
     ]
    }
   ],
   "source": [
    "global a, b, c\n",
    "\n",
    "# a = 11\n",
    "b = 22\n",
    "c = 33\n",
    "def foo():\n",
    "    # a = 111\n",
    "    # b = 222\n",
    "    c = 333\n",
    "    print(\"built-in\", True)\n",
    "    print(\"global\", a)\n",
    "    print(\"enclosing\", b)\n",
    "    print(\"local\", c)\n",
    "    # b = 222  # UnboundLocalError\n",
    "    # True = False  # SyntaxError\n",
    "\n",
    "foo()"
   ]
  },
  {
   "cell_type": "markdown",
   "metadata": {},
   "source": [
    "### 函数也是变量"
   ]
  },
  {
   "cell_type": "code",
   "execution_count": null,
   "metadata": {},
   "outputs": [],
   "source": [
    "def process(cmd, value):\n",
    "    if cmd == \"area\":\n",
    "        func = area\n",
    "    elif cmd == \"fib\":\n",
    "        func = fib\n",
    "    elif cmd == \"sqr\":\n",
    "        func = lambda x: x ** 2\n",
    "    elif cmd == \"negation\":\n",
    "        func = lambda x: -x\n",
    "    else:\n",
    "        raise ValueError(f\"Unknown command {cmd}\")\n",
    "    return func(value)"
   ]
  },
  {
   "cell_type": "code",
   "execution_count": null,
   "metadata": {},
   "outputs": [],
   "source": [
    "func_map = {\n",
    "    \"area\": area,\n",
    "    \"fib\": fib,\n",
    "    \"sqr\": lambda x: x**2,\n",
    "    \"negation\": lambda x: -x,\n",
    "}\n",
    "\n",
    "def process(cmd, value):\n",
    "    return func_map[cmd](value)\n"
   ]
  },
  {
   "cell_type": "code",
   "execution_count": null,
   "metadata": {},
   "outputs": [],
   "source": [
    "def process(cmd, value):\n",
    "    return {\n",
    "        \"area\": area,\n",
    "        \"fib\": fib,\n",
    "        \"sqr\": lambda x: x ** 2,\n",
    "        \"negation\": lambda x: -x,\n",
    "    }[cmd](value)"
   ]
  },
  {
   "cell_type": "code",
   "execution_count": null,
   "metadata": {},
   "outputs": [
    {
     "data": {
      "text/plain": [
       "6765"
      ]
     },
     "execution_count": 83,
     "metadata": {},
     "output_type": "execute_result"
    }
   ],
   "source": [
    "process(\"fib\", 20)"
   ]
  },
  {
   "cell_type": "markdown",
   "metadata": {},
   "source": [
    "函数闭包"
   ]
  },
  {
   "cell_type": "code",
   "execution_count": 47,
   "metadata": {},
   "outputs": [],
   "source": [
    "def f(x):\n",
    "    def g(y):\n",
    "        return x + y\n",
    "\n",
    "    return g\n",
    "\n",
    "inc = f(1)\n",
    "dec = f(-1)"
   ]
  },
  {
   "cell_type": "code",
   "execution_count": 48,
   "metadata": {},
   "outputs": [
    {
     "data": {
      "text/plain": [
       "2"
      ]
     },
     "execution_count": 48,
     "metadata": {},
     "output_type": "execute_result"
    }
   ],
   "source": [
    "inc(1)  # 2"
   ]
  },
  {
   "cell_type": "code",
   "execution_count": 72,
   "metadata": {},
   "outputs": [
    {
     "data": {
      "text/plain": [
       "0"
      ]
     },
     "execution_count": 72,
     "metadata": {},
     "output_type": "execute_result"
    }
   ],
   "source": [
    "dec(1)  # 0"
   ]
  },
  {
   "cell_type": "markdown",
   "metadata": {},
   "source": [
    "闭包debug的关键是作用域\n",
    "（许多莫名其妙的错误可能和作用域错误导致的意想不到的闭包有关）"
   ]
  },
  {
   "cell_type": "markdown",
   "metadata": {},
   "source": [
    "例：产生一系列函数闭包，分别对参数进行不同加数的加法运算"
   ]
  },
  {
   "cell_type": "code",
   "execution_count": 49,
   "metadata": {},
   "outputs": [
    {
     "name": "stdout",
     "output_type": "stream",
     "text": [
      "3\n",
      "3\n",
      "3\n"
     ]
    }
   ],
   "source": [
    "def f(x):\n",
    "    glist = []\n",
    "    for i in range(x):\n",
    "\n",
    "        def g(y):\n",
    "            return i + y  # 注意i的定义域\n",
    "\n",
    "        glist.append(g)\n",
    "    return glist\n",
    "\n",
    "\n",
    "for g in f(3):\n",
    "    print(g(1))  # 3 3 3"
   ]
  },
  {
   "cell_type": "code",
   "execution_count": 74,
   "metadata": {},
   "outputs": [
    {
     "name": "stdout",
     "output_type": "stream",
     "text": [
      "1\n",
      "2\n",
      "3\n"
     ]
    }
   ],
   "source": [
    "def f(x):\n",
    "    glist = []\n",
    "    for i in range(x):\n",
    "\n",
    "        def g(y, i=i):  # 用参数列表创建本地作用域变量\n",
    "            return i + y  # 注意i的定义域，这里是local\n",
    "\n",
    "        glist.append(g)\n",
    "    return glist\n",
    "\n",
    "\n",
    "for g in f(3):\n",
    "    print(g(1))  # 1 2 3"
   ]
  },
  {
   "cell_type": "code",
   "execution_count": null,
   "metadata": {},
   "outputs": [
    {
     "name": "stdout",
     "output_type": "stream",
     "text": [
      "1\n",
      "2\n",
      "3\n"
     ]
    }
   ],
   "source": [
    "def f(x):\n",
    "    glist = []\n",
    "    for i in range(x):\n",
    "\n",
    "        def h(i):\n",
    "            return lambda y: i + y  # 注意i的定义域，这里是匿名函数的enclosing（构成闭包），h的local\n",
    "\n",
    "        glist.append(h(i))\n",
    "    return glist\n",
    "\n",
    "\n",
    "for g in f(3):\n",
    "    print(g(1))  # 1 2 3"
   ]
  },
  {
   "cell_type": "markdown",
   "metadata": {},
   "source": [
    "Let's move to the experiment section!"
   ]
  }
 ],
 "metadata": {
  "kernelspec": {
   "display_name": "Python 3 (ipykernel)",
   "language": "python",
   "name": "python3"
  },
  "language_info": {
   "codemirror_mode": {
    "name": "ipython",
    "version": 3
   },
   "file_extension": ".py",
   "mimetype": "text/x-python",
   "name": "python",
   "nbconvert_exporter": "python",
   "pygments_lexer": "ipython3",
   "version": "3.11.5"
  },
  "vscode": {
   "interpreter": {
    "hash": "e8f66ee60c98f6b9d4e8f6cb3768308e38546533b3bb0d729601a127744262a1"
   }
  }
 },
 "nbformat": 4,
 "nbformat_minor": 4
}
