{
 "cells": [
  {
   "cell_type": "markdown",
   "metadata": {},
   "source": [
    "# 凯撒与哑谜\n",
    "\n",
    "凯撒密码和哑谜都是文本加密的方法。这类方法还有很多。\n",
    "为了更好的操作他们（以及破解），我们需要一套统一的接口：加密器类！\n",
    "对应的，解密器也能被统一的组织起来：解密器类。"
   ]
  },
  {
   "cell_type": "markdown",
   "metadata": {},
   "source": [
    "## 配置类 `Config`\n",
    "\n",
    "在设计加密器和解密器类之前，可以发现他们都需要操作的一类重要数据即配置。\n",
    "我们需要先定义一个配置类。\n",
    "下面首先实现一个简单的能够容纳配置信息的类。"
   ]
  },
  {
   "cell_type": "code",
   "execution_count": 1,
   "metadata": {},
   "outputs": [],
   "source": [
    "class Config:\n",
    "    keys = []\n",
    "\n",
    "    def __init__(self, **kwargs):\n",
    "        self._config = {key: kwargs.get(key, None) for key in self.keys}\n",
    "\n",
    "    def __getattr__(self, name):\n",
    "        # your code here\n",
    "        if name in self.keys:\n",
    "            return self._config[name]\n",
    "        raise AttributeError(f\"AttributeError: {name}\")\n",
    "        pass\n",
    "\n",
    "    def __str__(self):\n",
    "        # your code here\n",
    "        return str(self._config)\n",
    "        pass\n",
    "\n",
    "    def as_dict(self):\n",
    "        # your code here\n",
    "        return self._config\n",
    "        pass\n"
   ]
  },
  {
   "cell_type": "markdown",
   "metadata": {},
   "source": [
    "接下来实现一个凯撒密码的配置类，他只包含一个配置项，既位移`offset`。"
   ]
  },
  {
   "cell_type": "code",
   "execution_count": 4,
   "metadata": {},
   "outputs": [
    {
     "name": "stdout",
     "output_type": "stream",
     "text": [
      "{'offset': 3}\n"
     ]
    }
   ],
   "source": [
    "class CaesarConfig(Config):\n",
    "    keys = [\"offset\"]\n",
    "\n",
    "\n",
    "caesar_config = CaesarConfig(offset=3)\n",
    "print(caesar_config)\n",
    "# 预期结果：\n",
    "# {'offset': 3}"
   ]
  },
  {
   "cell_type": "markdown",
   "metadata": {},
   "source": [
    "哑谜配置则复杂一些，包括一组转子`rotors`，一个反射器`reflector`，一套插线板`plugboard`（上次未使用），以及一个转子初始位置`display`（上次明文给出为`ZEN`）。"
   ]
  },
  {
   "cell_type": "code",
   "execution_count": 7,
   "metadata": {},
   "outputs": [
    {
     "name": "stdout",
     "output_type": "stream",
     "text": [
      "{'rotors': ['I', 'IV', 'II'], 'reflector': 'B', 'plugboard': 'AB EZ CX DP KN TY', 'display': 'ZEN'}\n"
     ]
    }
   ],
   "source": [
    "class EnigmaConfig(Config):\n",
    "    keys = [\"rotors\", \"reflector\", \"plugboard\", \"display\"]\n",
    "\n",
    "\n",
    "enigma_config = EnigmaConfig(\n",
    "    rotors=[\"I\", \"IV\", \"II\"],\n",
    "    reflector=\"B\",\n",
    "    plugboard=\"AB EZ CX DP KN TY\",\n",
    "    display=\"ZEN\",\n",
    ")\n",
    "print(enigma_config)\n",
    "# 预期结果：{'rotors': ['I', 'IV', 'II'], 'reflector': 'B', 'plugboard': 'AB EZ CX DP KN TY', 'display': 'ZEN'}"
   ]
  },
  {
   "cell_type": "markdown",
   "metadata": {},
   "source": [
    "## 加密器类 `Cipher`\n",
    "\n",
    "接下来实现加密器类。注意配合`Config`类的使用。"
   ]
  },
  {
   "cell_type": "code",
   "execution_count": 9,
   "metadata": {},
   "outputs": [],
   "source": [
    "class Cipher:\n",
    "    def __init__(self, config):\n",
    "        self.config = config\n",
    "\n",
    "    def encrypt(self, text):\n",
    "        raise NotImplementedError\n",
    "\n",
    "    def decrypt(self, text):\n",
    "        raise NotImplementedError\n",
    "\n",
    "    def reset(self):\n",
    "        pass  # default no-op 这里的pass可以不用实现"
   ]
  },
  {
   "cell_type": "markdown",
   "metadata": {},
   "source": [
    "## 凯撒加密器"
   ]
  },
  {
   "cell_type": "code",
   "execution_count": 11,
   "metadata": {},
   "outputs": [],
   "source": [
    "class CaesarCipher(Cipher):\n",
    "    # your code here \n",
    "    def __init__(self, config):\n",
    "        super().__init__(config)\n",
    "        self.offset = config.offset\n",
    "        self.original_offset = config.offset\n",
    "        \n",
    "    def encrypt(self, text):\n",
    "        result = \"\"\n",
    "        for char in text:\n",
    "            if char.isalpha():\n",
    "                if char.isupper():\n",
    "                    result += chr((ord(char) - 65 + self.offset) % 26 + 65)\n",
    "                else:\n",
    "                    result += chr((ord(char) - 97 + self.offset) % 26 + 97)\n",
    "            else:\n",
    "                result += char\n",
    "        return result\n",
    "    \n",
    "    def decrypt(self, text):\n",
    "        result = \"\"\n",
    "        for char in text:\n",
    "            if char.isalpha():\n",
    "                if char.isupper():\n",
    "                    result += chr((ord(char) - 65 - self.offset) % 26 + 65)\n",
    "                else:\n",
    "                    result += chr((ord(char) - 97 - self.offset) % 26 + 97)\n",
    "            else:\n",
    "                result += char\n",
    "        return result\n",
    "    \n",
    "    def reset(self):\n",
    "        self.offset = self.original_offset\n",
    "    pass"
   ]
  },
  {
   "cell_type": "code",
   "execution_count": 13,
   "metadata": {},
   "outputs": [
    {
     "name": "stdout",
     "output_type": "stream",
     "text": [
      "Sbwkrq\n",
      "Python\n"
     ]
    }
   ],
   "source": [
    "# caesar_config = CaesarConfig(offset=3)\n",
    "caesar_cipher = CaesarCipher(caesar_config)\n",
    "print(caesar_cipher.encrypt(\"Python\"))\n",
    "print(caesar_cipher.decrypt(\"Sbwkrq\"))\n",
    "# 预期结果：\n",
    "# Sbwkrq\n",
    "# Python"
   ]
  },
  {
   "cell_type": "markdown",
   "metadata": {},
   "source": [
    "### 哑谜加密器\n",
    "(简单学习EnigmaMachine的用法)"
   ]
  },
  {
   "cell_type": "code",
   "execution_count": 16,
   "metadata": {},
   "outputs": [
    {
     "name": "stdout",
     "output_type": "stream",
     "text": [
      "Requirement already satisfied: py-enigma in e:\\anaconda3\\anaconda\\lib\\site-packages (0.1)\n"
     ]
    }
   ],
   "source": [
    "# install py-engima\n",
    "!pip install py-enigma"
   ]
  },
  {
   "cell_type": "code",
   "execution_count": 18,
   "metadata": {},
   "outputs": [],
   "source": [
    "from enigma.machine import EnigmaMachine\n",
    "\n",
    "\n",
    "class EnigmaCipher(Cipher):\n",
    "    # your code here\n",
    "    def __init__(self, config):\n",
    "        super().__init__(config)\n",
    "        self.rotors = config.rotors\n",
    "        self.reflector = config.reflector\n",
    "        self.plugboard = config.plugboard\n",
    "        self.display = config.display\n",
    "        self.original_display = config.display\n",
    "        self.machine = EnigmaMachine.from_key_sheet(\n",
    "            rotors=self.rotors,\n",
    "            reflector=self.reflector,\n",
    "            plugboard_settings=self.plugboard,\n",
    "        )\n",
    "        self.machine.set_display(self.display)\n",
    "    \n",
    "    def encrypt(self, text):\n",
    "        return self.machine.process_text(text)\n",
    "    \n",
    "    def decrypt(self, text):\n",
    "        return self.machine.process_text(text)\n",
    "    \n",
    "    def reset(self):\n",
    "        self.machine.set_display(self.original_display)\n",
    "    pass\n"
   ]
  },
  {
   "cell_type": "code",
   "execution_count": 20,
   "metadata": {},
   "outputs": [
    {
     "name": "stdout",
     "output_type": "stream",
     "text": [
      "VIXQTI\n",
      "GUFUVB\n",
      "PYTHON\n"
     ]
    }
   ],
   "source": [
    "# enigma_config = EnigmaConfig(...)\n",
    "\n",
    "enigma_cipher = EnigmaCipher(enigma_config)\n",
    "print(enigma_cipher.encrypt(\"Python\"))\n",
    "print(enigma_cipher.decrypt(\"VIXQTI\"))\n",
    "enigma_cipher.reset()\n",
    "print(enigma_cipher.decrypt(\"VIXQTI\"))\n",
    "# 预期结果：\n",
    "# VIXQTI\n",
    "# GUFUVB\n",
    "# PYTHON"
   ]
  },
  {
   "cell_type": "markdown",
   "metadata": {},
   "source": [
    "## 破解器类 `Cracker`\n",
    "\n",
    "根据上次实验的破解思路，实现通用的破解器类。\n",
    "破解针对一个`Cipher`类，破解时时需要一个配置模版`config_hint`用于缩小搜索范围（如已知初始设置为`\"ZEN\"`），一段密文`text`，以及一个已知存在的字段`crib`。"
   ]
  },
  {
   "cell_type": "code",
   "execution_count": 29,
   "metadata": {},
   "outputs": [],
   "source": [
    "from itertools import product\n",
    "class Cracker:\n",
    "    # your code here\n",
    "    def __init__(self):\n",
    "\n",
    "        pass\n",
    "    def crack(self, config, text, crib):\n",
    "        if isinstance(config, CaesarConfig):\n",
    "            cipher = CaesarCipher(config)\n",
    "            for i in range(26):\n",
    "                cipher.offset = i\n",
    "                if crib in cipher.decrypt(text):\n",
    "                    return i\n",
    "        elif isinstance(config, EnigmaConfig):\n",
    "            # self.cipher = EnigmaCipher(config)\n",
    "            plugboard = config.plugboard\n",
    "            display = config.display\n",
    "            rotors_set = [\"I\", \"II\", \"III\", \"IV\"]\n",
    "            reflector_set = [\"B\", \"C\"]\n",
    "            for rotors in product(rotors_set, repeat=3):\n",
    "                for reflector in reflector_set:\n",
    "                    config = EnigmaConfig(rotors=rotors, reflector=reflector, plugboard=plugboard, display=display)\n",
    "                    cipher = EnigmaCipher(config)\n",
    "                    new_text = cipher.encrypt(text)\n",
    "                    if crib.upper() in new_text:\n",
    "                        print(config)\n",
    "                        return \n",
    "    pass"
   ]
  },
  {
   "cell_type": "code",
   "execution_count": 31,
   "metadata": {},
   "outputs": [
    {
     "name": "stdout",
     "output_type": "stream",
     "text": [
      "{'rotors': ('I', 'IV', 'II'), 'reflector': 'B', 'plugboard': 'PY TH', 'display': 'ZEN'}\n"
     ]
    }
   ],
   "source": [
    "config_hint = EnigmaConfig(\n",
    "    plugboard=\"PY TH\",\n",
    "    display=\"ZEN\",\n",
    ")\n",
    "text = \"BIIVXUSWGZCGACIXV\"\n",
    "crib = \"Python\"\n",
    "Cracker().crack(config_hint, text, crib)\n",
    "# 预期结果：\n",
    "# {'rotors': ('I', 'IV', 'II'), 'reflector': 'B', 'plugboard': 'PY TH', 'display': 'ZEN'}"
   ]
  },
  {
   "cell_type": "code",
   "execution_count": null,
   "metadata": {},
   "outputs": [],
   "source": []
  }
 ],
 "metadata": {
  "interpreter": {
   "hash": "36959c95b5f5992904df98027e7a483e53020c3f856781a1641cc75f4aad00ab"
  },
  "kernelspec": {
   "display_name": "Python 3 (ipykernel)",
   "language": "python",
   "name": "python3"
  },
  "language_info": {
   "codemirror_mode": {
    "name": "ipython",
    "version": 3
   },
   "file_extension": ".py",
   "mimetype": "text/x-python",
   "name": "python",
   "nbconvert_exporter": "python",
   "pygments_lexer": "ipython3",
   "version": "3.11.5"
  }
 },
 "nbformat": 4,
 "nbformat_minor": 4
}
