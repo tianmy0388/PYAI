{
 "cells": [
  {
   "cell_type": "markdown",
   "metadata": {},
   "source": [
    "# Python之禅\n",
    "\n",
    "Python之禅最早由Tim Peters在Python邮件列表中发表，它包含了影响Python编程语言设计的19条软件编写原则。"
   ]
  },
  {
   "cell_type": "markdown",
   "metadata": {},
   "source": [
    "## 1. Zen\n",
    "\n",
    "在Python中引入`this`模块，会显示出Python之禅的内容。"
   ]
  },
  {
   "cell_type": "code",
   "execution_count": 1,
   "metadata": {},
   "outputs": [
    {
     "name": "stdout",
     "output_type": "stream",
     "text": [
      "The Zen of Python, by Tim Peters\n",
      "\n",
      "Beautiful is better than ugly.\n",
      "Explicit is better than implicit.\n",
      "Simple is better than complex.\n",
      "Complex is better than complicated.\n",
      "Flat is better than nested.\n",
      "Sparse is better than dense.\n",
      "Readability counts.\n",
      "Special cases aren't special enough to break the rules.\n",
      "Although practicality beats purity.\n",
      "Errors should never pass silently.\n",
      "Unless explicitly silenced.\n",
      "In the face of ambiguity, refuse the temptation to guess.\n",
      "There should be one-- and preferably only one --obvious way to do it.\n",
      "Although that way may not be obvious at first unless you're Dutch.\n",
      "Now is better than never.\n",
      "Although never is often better than *right* now.\n",
      "If the implementation is hard to explain, it's a bad idea.\n",
      "If the implementation is easy to explain, it may be a good idea.\n",
      "Namespaces are one honking great idea -- let's do more of those!\n"
     ]
    }
   ],
   "source": [
    "import this"
   ]
  },
  {
   "cell_type": "markdown",
   "metadata": {},
   "source": [
    "### Hide\n",
    "\n",
    "然而这些内容没有直接存储在代码中，而是以“加密”的形式存储在`this.s`变量中。"
   ]
  },
  {
   "cell_type": "code",
   "execution_count": 3,
   "metadata": {},
   "outputs": [
    {
     "name": "stdout",
     "output_type": "stream",
     "text": [
      "Gur Mra bs Clguba, ol Gvz Crgref\n",
      "\n",
      "Ornhgvshy vf orggre guna htyl.\n",
      "Rkcyvpvg vf orggre guna vzcyvpvg.\n",
      "Fvzcyr vf orggre guna pbzcyrk.\n",
      "Pbzcyrk vf orggre guna pbzcyvpngrq.\n",
      "Syng vf orggre guna arfgrq.\n",
      "Fcnefr vf orggre guna qrafr.\n",
      "Ernqnovyvgl pbhagf.\n",
      "Fcrpvny pnfrf nera'g fcrpvny rabhtu gb oernx gur ehyrf.\n",
      "Nygubhtu cenpgvpnyvgl orngf chevgl.\n",
      "Reebef fubhyq arire cnff fvyragyl.\n",
      "Hayrff rkcyvpvgyl fvyraprq.\n",
      "Va gur snpr bs nzovthvgl, ershfr gur grzcgngvba gb thrff.\n",
      "Gurer fubhyq or bar-- naq cersrenoyl bayl bar --boivbhf jnl gb qb vg.\n",
      "Nygubhtu gung jnl znl abg or boivbhf ng svefg hayrff lbh'er Qhgpu.\n",
      "Abj vf orggre guna arire.\n",
      "Nygubhtu arire vf bsgra orggre guna *evtug* abj.\n",
      "Vs gur vzcyrzragngvba vf uneq gb rkcynva, vg'f n onq vqrn.\n",
      "Vs gur vzcyrzragngvba vf rnfl gb rkcynva, vg znl or n tbbq vqrn.\n",
      "Anzrfcnprf ner bar ubaxvat terng vqrn -- yrg'f qb zber bs gubfr!\n"
     ]
    }
   ],
   "source": [
    "print(this.s)"
   ]
  },
  {
   "cell_type": "markdown",
   "metadata": {},
   "source": [
    "## 2. Caeser Cipher\n",
    "\n",
    "通过观察原文和“加密”文字，可以看出一些规律：这是凯撒密码！每个字母由字母表中其后特定位数的字母代替。\n",
    "在仅仅已知原文中包含`\"Python\"`一词的情况下，请编写程序自动找出字符替换规则。<br/><br/>\n",
    "    凯撒(Caesar)密码，又叫循环移位密码。它的加密方法就是将明文中的每个字母用字母表中该字母后的第R个字母来替换，达到加密的目的。\n",
    "加密过程可以表示为下面的函数：<br/>\n",
    "E(x) = (x + offset) mod 26\n",
    "其中，E表示加密函数，x表示为明文；26为字母表中的字母个数；offset为移位位数<br/>\n",
    "解密过程可以表示为下面函数：<br/>\n",
    "D(y) = (y - offset) mod 26<br/>\n",
    "<br/>"
   ]
  },
  {
   "cell_type": "code",
   "execution_count": 5,
   "metadata": {},
   "outputs": [
    {
     "name": "stdout",
     "output_type": "stream",
     "text": [
      "13\n"
     ]
    }
   ],
   "source": [
    "# ---- your code here\n",
    "#在这里定义函数caesar，求出移位位数offset\n",
    "offset = 0\n",
    "\n",
    "def caesar(doffset):\n",
    "    def decode_char(char):\n",
    "        if ord(char)>=65 and ord(char)<=90:\n",
    "            return chr((ord(char)-65+doffset)%26+65)\n",
    "        elif ord(char)>=97 and ord(char)<=122:\n",
    "            return chr((ord(char)-97+doffset)%26+97)\n",
    "        else: return char\n",
    "\n",
    "    def decoding(char, x):\n",
    "        if ord(char)>=65 and ord(char)<=90:\n",
    "            return chr((ord(char)-65+x)%26+65)\n",
    "        elif ord(char)>=97 and ord(char)<=122:\n",
    "            return chr((ord(char)-97+x)%26+97)\n",
    "        else: return char\n",
    "\n",
    "    global offset\n",
    "\n",
    "    for n in range(1, 26):\n",
    "        new_text = \"\"\n",
    "        for line in this.s.splitlines():\n",
    "            for char in line:\n",
    "                new_char = decoding(char, n)\n",
    "                new_text += new_char\n",
    "            new_text += '\\n'\n",
    "\n",
    "        if \"Python\" in new_text:\n",
    "            offset = n\n",
    "            break\n",
    "\n",
    "    return decode_char\n",
    "caesar(0)\n",
    "print(offset)\n",
    "        \n",
    "    \n"
   ]
  },
  {
   "cell_type": "markdown",
   "metadata": {},
   "source": [
    "### Decode\n",
    "\n",
    "通过以下方式我们可以通过凯撒密码解码出Python之禅。"
   ]
  },
  {
   "cell_type": "code",
   "execution_count": 7,
   "metadata": {},
   "outputs": [
    {
     "name": "stdout",
     "output_type": "stream",
     "text": [
      "The Zen of Python, by Tim Peters\n",
      "\n",
      "Beautiful is better than ugly.\n",
      "Explicit is better than implicit.\n",
      "Simple is better than complex.\n",
      "Complex is better than complicated.\n",
      "Flat is better than nested.\n",
      "Sparse is better than dense.\n",
      "Readability counts.\n",
      "Special cases aren't special enough to break the rules.\n",
      "Although practicality beats purity.\n",
      "Errors should never pass silently.\n",
      "Unless explicitly silenced.\n",
      "In the face of ambiguity, refuse the temptation to guess.\n",
      "There should be one-- and preferably only one --obvious way to do it.\n",
      "Although that way may not be obvious at first unless you're Dutch.\n",
      "Now is better than never.\n",
      "Although never is often better than *right* now.\n",
      "If the implementation is hard to explain, it's a bad idea.\n",
      "If the implementation is easy to explain, it may be a good idea.\n",
      "Namespaces are one honking great idea -- let's do more of those!\n"
     ]
    }
   ],
   "source": [
    "# offset - calculated from above\n",
    "\n",
    "doffset = (- offset) % 26\n",
    "decode = caesar(doffset) #caesar函数应该返回一个函数,赋值给decode\n",
    "z = \"\".join(map(decode, this.s))\n",
    "print(z)\n",
    "\n",
    "# 期望结果：\n",
    "# The Zen of Python, by Tim Peters\n",
    "\n",
    "# Beautiful is better than ugly.\n",
    "# Explicit is better than implicit.\n",
    "# Simple is better than complex.\n",
    "# Complex is better than complicated.\n",
    "# Flat is better than nested.\n",
    "# Sparse is better than dense.\n",
    "# Readability counts.\n",
    "# Special cases aren't special enough to break the rules.\n",
    "# Although practicality beats purity.\n",
    "# Errors should never pass silently.\n",
    "# Unless explicitly silenced.\n",
    "# In the face of ambiguity, refuse the temptation to guess.\n",
    "# There should be one-- and preferably only one --obvious way to do it.\n",
    "# Although that way may not be obvious at first unless you're Dutch.\n",
    "# Now is better than never.\n",
    "# Although never is often better than *right* now.\n",
    "# If the implementation is hard to explain, it's a bad idea.\n",
    "# If the implementation is easy to explain, it may be a good idea.\n",
    "# Namespaces are one honking great idea -- let's do more of those!"
   ]
  },
  {
   "cell_type": "code",
   "execution_count": null,
   "metadata": {},
   "outputs": [],
   "source": []
  }
 ],
 "metadata": {
  "kernelspec": {
   "display_name": "Python 3 (ipykernel)",
   "language": "python",
   "name": "python3"
  },
  "language_info": {
   "codemirror_mode": {
    "name": "ipython",
    "version": 3
   },
   "file_extension": ".py",
   "mimetype": "text/x-python",
   "name": "python",
   "nbconvert_exporter": "python",
   "pygments_lexer": "ipython3",
   "version": "3.11.5"
  },
  "vscode": {
   "interpreter": {
    "hash": "e8f66ee60c98f6b9d4e8f6cb3768308e38546533b3bb0d729601a127744262a1"
   }
  }
 },
 "nbformat": 4,
 "nbformat_minor": 4
}
