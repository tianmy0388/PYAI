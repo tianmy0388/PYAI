{
 "cells": [
  {
   "cell_type": "markdown",
   "metadata": {},
   "source": [
    "# Python程序设计进阶"
   ]
  },
  {
   "cell_type": "markdown",
   "metadata": {},
   "source": [
    "## 装饰器、上下文管理器"
   ]
  },
  {
   "cell_type": "markdown",
   "metadata": {},
   "source": [
    "### 装饰器\n",
    "\n",
    "装饰器 decorator：修改函数行为的函数\n",
    "\n",
    "本质上是一个函数：\n",
    "- 其输入是一个函数（`callable`）\n",
    "  - 函数\n",
    "  - 方法\n",
    "  - 类\n",
    "  - 实现`__call__`的实体\n",
    "\n",
    "- 输出将被用于替换这一个函数\n",
    "- 可能产生副作用\n",
    "  - 对非局部变量造成改变\n",
    "  - 每次访问函数得到结果可能不同\n"
   ]
  },
  {
   "cell_type": "code",
   "execution_count": 1,
   "metadata": {},
   "outputs": [
    {
     "name": "stdout",
     "output_type": "stream",
     "text": [
      "Before\n",
      "Hello\n",
      "After\n"
     ]
    }
   ],
   "source": [
    "def decorator(func):\n",
    "    def wrapper():\n",
    "        print('Before')\n",
    "        func()\n",
    "        print('After')\n",
    "    return wrapper\n",
    "\n",
    "def foo():\n",
    "    print('Hello')\n",
    "\n",
    "foo = decorator(foo)\n",
    "\n",
    "foo()"
   ]
  },
  {
   "cell_type": "code",
   "execution_count": 3,
   "metadata": {},
   "outputs": [
    {
     "name": "stdout",
     "output_type": "stream",
     "text": [
      "Before\n",
      "World\n",
      "After\n"
     ]
    }
   ],
   "source": [
    "@decorator\n",
    "def bar():\n",
    "    print('World')\n",
    "\n",
    "bar()"
   ]
  },
  {
   "cell_type": "markdown",
   "metadata": {},
   "source": [
    "例：函数计时器"
   ]
  },
  {
   "cell_type": "code",
   "execution_count": 5,
   "metadata": {},
   "outputs": [],
   "source": [
    "def fib1(n):\n",
    "    def fibr(n):\n",
    "        if n < 2:\n",
    "            return n\n",
    "        return fibr(n-1) + fibr(n-2)\n",
    "    return fibr(n)\n",
    "\n",
    "def fib2(n):\n",
    "    a, b = 0, 1\n",
    "    for _ in range(n):\n",
    "        a, b = b, a+b\n",
    "    return a\n",
    "\n",
    "assert fib1(42) == fib2(42)"
   ]
  },
  {
   "cell_type": "code",
   "execution_count": 7,
   "metadata": {},
   "outputs": [
    {
     "name": "stdout",
     "output_type": "stream",
     "text": [
      "fib2 took 0.0 seconds\n"
     ]
    }
   ],
   "source": [
    "import time\n",
    "\n",
    "start = time.time()\n",
    "fib2(42)\n",
    "end = time.time()\n",
    "print(f\"{fib2.__name__} took {end - start} seconds\")"
   ]
  },
  {
   "cell_type": "code",
   "execution_count": 9,
   "metadata": {},
   "outputs": [],
   "source": [
    "import time\n",
    "\n",
    "def timeit(fn):\n",
    "    def wrapper(*args, **kwargs):\n",
    "        start = time.time()\n",
    "        result = fn(*args, **kwargs)\n",
    "        end = time.time()\n",
    "        print(f\"{fn.__name__} took {end - start} seconds\")\n",
    "        return result\n",
    "    return wrapper"
   ]
  },
  {
   "cell_type": "code",
   "execution_count": 11,
   "metadata": {},
   "outputs": [],
   "source": [
    "@timeit\n",
    "def fib1(n):\n",
    "    def fibr(n):\n",
    "        if n < 2:\n",
    "            return n\n",
    "        return fibr(n-1) + fibr(n-2)\n",
    "    return fibr(n)\n",
    "\n",
    "@timeit\n",
    "def fib2(n):\n",
    "    a, b = 0, 1\n",
    "    for _ in range(n):\n",
    "        a, b = b, a+b\n",
    "    return a"
   ]
  },
  {
   "cell_type": "code",
   "execution_count": 13,
   "metadata": {},
   "outputs": [
    {
     "name": "stdout",
     "output_type": "stream",
     "text": [
      "fib2 took 0.0 seconds\n"
     ]
    },
    {
     "data": {
      "text/plain": [
       "267914296"
      ]
     },
     "execution_count": 13,
     "metadata": {},
     "output_type": "execute_result"
    }
   ],
   "source": [
    "fib2(42)"
   ]
  },
  {
   "cell_type": "markdown",
   "metadata": {},
   "source": [
    "例：函数缓存器（懒人动态规划）"
   ]
  },
  {
   "cell_type": "code",
   "execution_count": 15,
   "metadata": {},
   "outputs": [],
   "source": [
    "function_cache = {}\n",
    "\n",
    "def cacheit(fn):\n",
    "    def wrapper(*args, **kwargs):\n",
    "        key = (fn, args, tuple(kwargs.items()))\n",
    "        if key not in function_cache:\n",
    "            function_cache[key] = fn(*args, **kwargs)\n",
    "        return function_cache[key]\n",
    "    return wrapper"
   ]
  },
  {
   "cell_type": "code",
   "execution_count": 17,
   "metadata": {},
   "outputs": [
    {
     "name": "stdout",
     "output_type": "stream",
     "text": [
      "fib3 took 0.0 seconds\n"
     ]
    },
    {
     "data": {
      "text/plain": [
       "267914296"
      ]
     },
     "execution_count": 17,
     "metadata": {},
     "output_type": "execute_result"
    }
   ],
   "source": [
    "@timeit\n",
    "def fib3(n):\n",
    "    @cacheit\n",
    "    def fibr(n):\n",
    "        if n < 2:\n",
    "            return n\n",
    "        return fibr(n-1) + fibr(n-2)\n",
    "    return fibr(n)\n",
    "\n",
    "fib3(42)"
   ]
  },
  {
   "cell_type": "markdown",
   "metadata": {},
   "source": [
    "副作用：非局部状态的改变\n",
    "\n",
    "`cacheit`例子中，调用可能会导致`function_cache`改变（可能增加一条记录），既副作用。"
   ]
  },
  {
   "cell_type": "markdown",
   "metadata": {},
   "source": [
    "多个装饰器的执行顺序：从下到上"
   ]
  },
  {
   "cell_type": "code",
   "execution_count": 19,
   "metadata": {},
   "outputs": [
    {
     "name": "stdout",
     "output_type": "stream",
     "text": [
      "Before\n",
      "World\n",
      "After\n",
      "wrapper took 0.0 seconds\n"
     ]
    }
   ],
   "source": [
    "@timeit\n",
    "@decorator\n",
    "def bar():\n",
    "    print('World')\n",
    "\n",
    "bar()"
   ]
  },
  {
   "cell_type": "markdown",
   "metadata": {},
   "source": [
    "含参数的装饰器"
   ]
  },
  {
   "cell_type": "code",
   "execution_count": 21,
   "metadata": {},
   "outputs": [
    {
     "name": "stdout",
     "output_type": "stream",
     "text": [
      "Before: Hello\n",
      "World\n",
      "After: Hello\n"
     ]
    }
   ],
   "source": [
    "def param_decorator(param):\n",
    "    def decorator(func):\n",
    "        def wrapper():\n",
    "            print(f'Before: {param}')\n",
    "            func()\n",
    "            print(f'After: {param}')\n",
    "        return wrapper\n",
    "    return decorator\n",
    "\n",
    "@param_decorator('Hello')\n",
    "def bar():\n",
    "    print('World')\n",
    "\n",
    "bar()"
   ]
  },
  {
   "cell_type": "markdown",
   "metadata": {},
   "source": [
    "### 上下文管理器"
   ]
  },
  {
   "cell_type": "markdown",
   "metadata": {},
   "source": [
    "- 进入`with`语句下的代码块时执行一个操作（如，获取资源）\n",
    "- 离开代码块时（如，释放资源）\n",
    "- 使用`as`关键词将资源绑定到一个变量上"
   ]
  },
  {
   "cell_type": "markdown",
   "metadata": {},
   "source": [
    "例：文件读写管理"
   ]
  },
  {
   "cell_type": "code",
   "execution_count": null,
   "metadata": {},
   "outputs": [],
   "source": [
    "fout = open(\"Hello.txt\", \"w\")\n",
    "fout.write(\"Hello World!\")\n",
    "fout.close()"
   ]
  },
  {
   "cell_type": "code",
   "execution_count": null,
   "metadata": {},
   "outputs": [],
   "source": [
    "with open(\"Hello.txt\", \"w\") as fout:\n",
    "    fout.write(\"Hello World!\")"
   ]
  },
  {
   "cell_type": "markdown",
   "metadata": {},
   "source": [
    "魔法方法实现"
   ]
  },
  {
   "cell_type": "code",
   "execution_count": null,
   "metadata": {},
   "outputs": [],
   "source": [
    "class OpenMy:\n",
    "    prefix = \"guoquan-\"\n",
    "    \n",
    "    def __init__(self, filename, mode=\"r\"):\n",
    "        self.filename = filename\n",
    "        self.mode = mode\n",
    "    \n",
    "    def __enter__(self):\n",
    "        print(\"Enter\")\n",
    "        self.fout = open(self.prefix + self.filename, self.mode)\n",
    "        return self.fout\n",
    "    \n",
    "    def __exit__(self, *args):\n",
    "        print(\"Exit\")\n",
    "        self.fout.close()"
   ]
  },
  {
   "cell_type": "code",
   "execution_count": null,
   "metadata": {},
   "outputs": [],
   "source": [
    "with OpenMy(\"Hello.txt\", \"w\") as fout:\n",
    "    fout.write(\"Hello World!\")"
   ]
  },
  {
   "cell_type": "markdown",
   "metadata": {},
   "source": [
    "装饰器实现"
   ]
  },
  {
   "cell_type": "code",
   "execution_count": null,
   "metadata": {},
   "outputs": [],
   "source": [
    "from contextlib import contextmanager\n",
    "\n",
    "prefix = \"鸭梨-\"\n",
    "\n",
    "@contextmanager\n",
    "def open_my(filename, mode=\"r\"):\n",
    "    print('Enter')\n",
    "    file = open(f\"{prefix}{filename}\", mode)\n",
    "    yield file\n",
    "    print('Exit')\n",
    "    file.close()"
   ]
  },
  {
   "cell_type": "code",
   "execution_count": null,
   "metadata": {},
   "outputs": [],
   "source": [
    "with open_my(\"Hello.txt\", \"w\") as fout:\n",
    "    fout.write(\"Hello World!\")"
   ]
  },
  {
   "cell_type": "markdown",
   "metadata": {},
   "source": [
    "例：配置管理"
   ]
  },
  {
   "cell_type": "code",
   "execution_count": null,
   "metadata": {},
   "outputs": [],
   "source": [
    "from contextlib import contextmanager\n",
    "\n",
    "class Speech:\n",
    "    speaker = \"guoquan\"\n",
    "\n",
    "    def __call__(self, message):\n",
    "        print(f\"{self.speaker}: {message}\")\n",
    "\n",
    "say = Speech()\n",
    "\n",
    "@contextmanager\n",
    "def interrupt(name):\n",
    "    orig_speaker = Speech.speaker\n",
    "    Speech.speaker = name\n",
    "    yield\n",
    "    Speech.speaker = orig_speaker\n",
    "\n",
    "say(\"Hello\")\n",
    "with interrupt(\"鸭梨\"):\n",
    "    say(\"汪汪\")\n",
    "say(\"World\")"
   ]
  },
  {
   "cell_type": "markdown",
   "metadata": {},
   "source": [
    "## 多继承、元类"
   ]
  },
  {
   "cell_type": "markdown",
   "metadata": {},
   "source": [
    "### 多继承"
   ]
  },
  {
   "cell_type": "code",
   "execution_count": null,
   "metadata": {},
   "outputs": [],
   "source": [
    "class Pet:\n",
    "    def __init__(self, name):\n",
    "        self.name = name\n",
    "\n",
    "    def speak(self):\n",
    "        print(f\"我是{self.name}\")\n",
    "\n",
    "class Dog(Pet):\n",
    "    woof = \"汪\"\n",
    "\n",
    "    def speak(self):\n",
    "        super().speak()\n",
    "        print(self.woof)"
   ]
  },
  {
   "cell_type": "code",
   "execution_count": null,
   "metadata": {},
   "outputs": [],
   "source": [
    "class LongLegDog(Dog):\n",
    "    def speak(self):\n",
    "        super().speak()\n",
    "        print(\"抖抖长腿\")\n",
    "\n",
    "class YellowHairDog(Dog):\n",
    "    def speak(self):\n",
    "        super().speak()\n",
    "        print(\"甩甩金毛\")\n",
    "\n",
    "class Shiba(LongLegDog, YellowHairDog):\n",
    "    def speak(self):\n",
    "        super().speak()\n",
    "        print(\"嗷呜嗷呜\")"
   ]
  },
  {
   "cell_type": "code",
   "execution_count": null,
   "metadata": {},
   "outputs": [],
   "source": [
    "Shiba(\"阿柴\").speak()"
   ]
  },
  {
   "cell_type": "markdown",
   "metadata": {},
   "source": [
    "### 元类"
   ]
  },
  {
   "cell_type": "markdown",
   "metadata": {},
   "source": [
    "类的类"
   ]
  },
  {
   "cell_type": "markdown",
   "metadata": {},
   "source": [
    "例：修改类创建的行为"
   ]
  },
  {
   "cell_type": "code",
   "execution_count": null,
   "metadata": {},
   "outputs": [],
   "source": [
    "class DisableMultipleInherit(type):\n",
    "    def __new__(cls, name, bases, attrs):\n",
    "        if len(bases) > 1:\n",
    "            raise TypeError(\"Multiple Inheritance is not allowed\")\n",
    "        return super().__new__(cls, name, bases, attrs)\n",
    "    \n",
    "class PurebredDog(Dog, metaclass=DisableMultipleInherit):\n",
    "    pass\n",
    "\n",
    "class Husky(PurebredDog):\n",
    "    pass\n",
    "\n",
    "class Poodle(PurebredDog):\n",
    "    pass\n",
    "\n",
    "class NewBred(Poodle, Husky):  # TypeError: Multiple Inheritance is not allowed\n",
    "    pass"
   ]
  },
  {
   "cell_type": "markdown",
   "metadata": {},
   "source": [
    "类的创建过程既其元类的实例化过程"
   ]
  },
  {
   "cell_type": "markdown",
   "metadata": {},
   "source": [
    "例：注入操作"
   ]
  },
  {
   "cell_type": "code",
   "execution_count": null,
   "metadata": {},
   "outputs": [],
   "source": [
    "class InjectTimer(type):\n",
    "    def __init__(cls, name, bases, attrs):\n",
    "        super().__init__(name, bases, attrs)\n",
    "        for key, value in attrs.items():\n",
    "            if callable(value):\n",
    "                setattr(cls, key, cls.inject(value))\n",
    "\n",
    "    @staticmethod\n",
    "    def inject(fn):\n",
    "        return timeit(fn)\n",
    "\n",
    "class Fib(metaclass=InjectTimer):\n",
    "    def fib1(self, n):\n",
    "        def fibr(n):\n",
    "            if n < 2:\n",
    "                return n\n",
    "            return fibr(n-1) + fibr(n-2)\n",
    "        return fibr(n)\n",
    "\n",
    "    def fib2(self, n):\n",
    "        a, b = 0, 1\n",
    "        for _ in range(n):\n",
    "            a, b = b, a+b\n",
    "        return a\n",
    "\n",
    "fib = Fib()\n",
    "\n",
    "fib.fib2(42)"
   ]
  },
  {
   "cell_type": "markdown",
   "metadata": {},
   "source": [
    "## 循环、递归、迭代器"
   ]
  },
  {
   "cell_type": "code",
   "execution_count": null,
   "metadata": {},
   "outputs": [],
   "source": [
    "例：累加器"
   ]
  },
  {
   "cell_type": "markdown",
   "metadata": {},
   "source": [
    "循环"
   ]
  },
  {
   "cell_type": "code",
   "execution_count": null,
   "metadata": {},
   "outputs": [],
   "source": [
    "def accumulate(n):\n",
    "    total = 0\n",
    "    for value in range(n+1):\n",
    "        total = total + value\n",
    "    return total\n",
    "\n",
    "accumulate(100)"
   ]
  },
  {
   "cell_type": "markdown",
   "metadata": {},
   "source": [
    "递归"
   ]
  },
  {
   "cell_type": "code",
   "execution_count": null,
   "metadata": {},
   "outputs": [],
   "source": [
    "def accumulate_r(n):\n",
    "    if n == 1:\n",
    "        return 1\n",
    "    else:\n",
    "        total = accumulate_r(n-1)\n",
    "        total = total + n\n",
    "        return total\n",
    "\n",
    "accumulate_r(100)"
   ]
  },
  {
   "cell_type": "markdown",
   "metadata": {},
   "source": [
    "尾递归"
   ]
  },
  {
   "cell_type": "code",
   "execution_count": null,
   "metadata": {},
   "outputs": [],
   "source": [
    "def accumulate_t(n, total=0):\n",
    "    if n == 0:\n",
    "        return total\n",
    "    else:\n",
    "        return accumulate_t(n-1, total+n)\n",
    "\n",
    "accumulate_t(100)"
   ]
  },
  {
   "cell_type": "markdown",
   "metadata": {},
   "source": [
    "消除尾递归"
   ]
  },
  {
   "cell_type": "code",
   "execution_count": null,
   "metadata": {},
   "outputs": [],
   "source": [
    "def accumulate_e(n, total=0):\n",
    "    while True:\n",
    "        if n == 0:\n",
    "            return total\n",
    "        else:\n",
    "            n, total = n-1, total+n\n",
    "\n",
    "accumulate_e(100)"
   ]
  },
  {
   "cell_type": "markdown",
   "metadata": {},
   "source": [
    "例：汉诺塔"
   ]
  },
  {
   "cell_type": "code",
   "execution_count": null,
   "metadata": {},
   "outputs": [],
   "source": [
    "def hanoi_r(n, src, dst, tmp):\n",
    "    if n == 1:\n",
    "        print(f\"Move {src} -> {dst}\")\n",
    "    else:\n",
    "        hanoi_r(n-1, src, tmp, dst)\n",
    "        print(f\"Move {src} -> {dst}\")\n",
    "        hanoi_r(n-1, tmp, dst, src)\n",
    "        \n",
    "hanoi_r(3, 'A', 'C', 'B')"
   ]
  },
  {
   "cell_type": "code",
   "execution_count": null,
   "metadata": {},
   "outputs": [],
   "source": [
    "def hanoi_l(n, src, dst, tmp):\n",
    "    stack = [(n, src, dst, tmp)]\n",
    "    while stack:\n",
    "        n, src, dst, tmp = stack.pop()\n",
    "        if n == 1:\n",
    "            print(f\"Move {src} -> {dst}\")\n",
    "        else:\n",
    "            stack.append((n-1, tmp, dst, src))\n",
    "            stack.append((1, src, dst, tmp))\n",
    "            stack.append((n-1, src, tmp, dst))\n",
    "\n",
    "hanoi_l(3, 'A', 'C', 'B')"
   ]
  },
  {
   "cell_type": "markdown",
   "metadata": {},
   "source": [
    "例：哑谜机的齿轮组合"
   ]
  },
  {
   "cell_type": "code",
   "execution_count": null,
   "metadata": {},
   "outputs": [],
   "source": [
    "A = ord(\"A\")\n",
    "for r1 in range(26):\n",
    "    for r2 in range(26):\n",
    "        for r3 in range(26):\n",
    "            print(f\"{chr(r1+A)}{chr(r2+A)}{chr(r3+A)}\")"
   ]
  },
  {
   "cell_type": "markdown",
   "metadata": {},
   "source": [
    "### 迭代器"
   ]
  },
  {
   "cell_type": "code",
   "execution_count": null,
   "metadata": {},
   "outputs": [],
   "source": [
    "def display_gen():\n",
    "    A = ord(\"A\")\n",
    "    for r1 in range(26):\n",
    "        for r2 in range(26):\n",
    "            for r3 in range(26):\n",
    "                yield f\"{chr(r1+A)}{chr(r2+A)}{chr(r3+A)}\"\n",
    "\n",
    "for i, display in enumerate(display_gen()):\n",
    "    print(i, display)"
   ]
  },
  {
   "cell_type": "markdown",
   "metadata": {},
   "source": [
    "如果需要更多的齿轮？如何支持不同数量的齿轮？"
   ]
  },
  {
   "cell_type": "code",
   "execution_count": null,
   "metadata": {},
   "outputs": [],
   "source": [
    "def display_gen():\n",
    "    A = ord(\"A\")\n",
    "    for r1 in range(26):\n",
    "        for r2 in range(26):\n",
    "            for r3 in range(26):\n",
    "                for r4 in range(26):\n",
    "                    for r5 in range(26):\n",
    "                        pass\n"
   ]
  },
  {
   "cell_type": "code",
   "execution_count": null,
   "metadata": {},
   "outputs": [],
   "source": [
    "def display_gen_rs(n=3):\n",
    "    if n == 0:\n",
    "        yield \"\"\n",
    "    else:\n",
    "        A = ord(\"A\")\n",
    "        for r in range(26):\n",
    "            yield from (chr(r+A) + suffix for suffix in display_gen_rs(n-1))\n",
    "\n",
    "for i, display in enumerate(display_gen_rs()):\n",
    "    print(i, display)"
   ]
  },
  {
   "cell_type": "code",
   "execution_count": null,
   "metadata": {},
   "outputs": [],
   "source": [
    "def display_gen_rp(n=3, prefix=\"\"):\n",
    "    if n == 0:\n",
    "        yield prefix\n",
    "    else:\n",
    "        A = ord(\"A\")\n",
    "        for r in range(26):\n",
    "            yield from display_gen_rp(n-1, prefix + chr(r+A))\n",
    "\n",
    "for i, display in enumerate(display_gen_rp()):\n",
    "    print(i, display)"
   ]
  },
  {
   "cell_type": "code",
   "execution_count": null,
   "metadata": {},
   "outputs": [],
   "source": [
    "from itertools import product\n",
    "\n",
    "for i, display in enumerate(product((chr(r+A) for r in range(26)), repeat=3)):\n",
    "    print(i, \"\".join(display))"
   ]
  },
  {
   "cell_type": "markdown",
   "metadata": {},
   "source": [
    "## 其他常见概念"
   ]
  }
 ],
 "metadata": {
  "kernelspec": {
   "display_name": "Python 3 (ipykernel)",
   "language": "python",
   "name": "python3"
  },
  "language_info": {
   "codemirror_mode": {
    "name": "ipython",
    "version": 3
   },
   "file_extension": ".py",
   "mimetype": "text/x-python",
   "name": "python",
   "nbconvert_exporter": "python",
   "pygments_lexer": "ipython3",
   "version": "3.11.5"
  }
 },
 "nbformat": 4,
 "nbformat_minor": 4
}
